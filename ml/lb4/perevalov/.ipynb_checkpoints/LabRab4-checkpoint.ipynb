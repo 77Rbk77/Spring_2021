{
 "cells": [
  {
   "cell_type": "markdown",
   "metadata": {},
   "source": [
    "# Перевалов Александр Дмитриевич 19-ИВТ-3\n",
    "\n",
    "## Лабораторная работа №4\n",
    "\n",
    "### Вариант №6 \"mpg\"\n",
    "\n",
    "\n"
   ]
  },
  {
   "cell_type": "code",
   "execution_count": 1,
   "metadata": {},
   "outputs": [],
   "source": [
    "import numpy as np\n",
    "import pandas as pd\n",
    "import sklearn as sk\n",
    "import seaborn as sns\n",
    "import matplotlib.pyplot as plt\n",
    "\n",
    "from sklearn import linear_model\n",
    "from sklearn.preprocessing import MinMaxScaler\n",
    "from sklearn.model_selection import GridSearchCV\n",
    "from sklearn.preprocessing import PolynomialFeatures\n",
    "from sklearn.model_selection import (cross_val_score, StratifiedKFold,\n",
    "                                     train_test_split)\n",
    "from sklearn.linear_model import LogisticRegression, LogisticRegressionCV\n",
    "\n",
    "from scipy.stats import pearsonr, spearmanr"
   ]
  },
  {
   "cell_type": "markdown",
   "metadata": {},
   "source": [
    "### 1.\tИзучить набор данных. Создать описание набора данных на русском языке. Описать признаки, используемые в наборе данных (включить полученные описания в отчёт)."
   ]
  },
  {
   "cell_type": "markdown",
   "metadata": {},
   "source": [
    "Данные описывают потребление топлива в милях на галон(mpg) у разных автомобилей, что должно быть предсказано с точки зрения 3-х многозначных дискретных и 5-и вещественных атрибутов.\n",
    "\n",
    "|  Переменная  | Описание  | Параметр  | \n",
    "|--------------|--------------|-------------------|\n",
    "|      mpg     |потребление топлива  | вещественный|\n",
    "|   cylinders  | число цилиндров|дискретный|\n",
    "| displacement |литраж|вещественный|\n",
    "|  horsepower  |мощность|вещественный|\n",
    "|    weight    |вес|вещественный|\n",
    "| acceleration |ускорение|вещественный|\n",
    "|  model year  |год выпуска|дискретный|\n",
    "|    origin    |место производства|дискретный|\n",
    "|   car name   |название модели|строка(уникальная)|"
   ]
  },
  {
   "cell_type": "code",
   "execution_count": 2,
   "metadata": {
    "scrolled": true
   },
   "outputs": [
    {
     "data": {
      "text/html": [
       "<div>\n",
       "<style scoped>\n",
       "    .dataframe tbody tr th:only-of-type {\n",
       "        vertical-align: middle;\n",
       "    }\n",
       "\n",
       "    .dataframe tbody tr th {\n",
       "        vertical-align: top;\n",
       "    }\n",
       "\n",
       "    .dataframe thead th {\n",
       "        text-align: right;\n",
       "    }\n",
       "</style>\n",
       "<table border=\"1\" class=\"dataframe\">\n",
       "  <thead>\n",
       "    <tr style=\"text-align: right;\">\n",
       "      <th></th>\n",
       "      <th>mpg</th>\n",
       "      <th>cylinders</th>\n",
       "      <th>displacement</th>\n",
       "      <th>horsepower</th>\n",
       "      <th>weight</th>\n",
       "      <th>acceleration</th>\n",
       "      <th>model_year</th>\n",
       "      <th>origin</th>\n",
       "      <th>car_name</th>\n",
       "    </tr>\n",
       "  </thead>\n",
       "  <tbody>\n",
       "    <tr>\n",
       "      <th>0</th>\n",
       "      <td>18.0</td>\n",
       "      <td>8</td>\n",
       "      <td>307.0</td>\n",
       "      <td>130.0</td>\n",
       "      <td>3504.0</td>\n",
       "      <td>12.0</td>\n",
       "      <td>70</td>\n",
       "      <td>1</td>\n",
       "      <td>chevrolet chevelle malibu</td>\n",
       "    </tr>\n",
       "    <tr>\n",
       "      <th>1</th>\n",
       "      <td>15.0</td>\n",
       "      <td>8</td>\n",
       "      <td>350.0</td>\n",
       "      <td>165.0</td>\n",
       "      <td>3693.0</td>\n",
       "      <td>11.5</td>\n",
       "      <td>70</td>\n",
       "      <td>1</td>\n",
       "      <td>buick skylark 320</td>\n",
       "    </tr>\n",
       "    <tr>\n",
       "      <th>2</th>\n",
       "      <td>18.0</td>\n",
       "      <td>8</td>\n",
       "      <td>318.0</td>\n",
       "      <td>150.0</td>\n",
       "      <td>3436.0</td>\n",
       "      <td>11.0</td>\n",
       "      <td>70</td>\n",
       "      <td>1</td>\n",
       "      <td>plymouth satellite</td>\n",
       "    </tr>\n",
       "    <tr>\n",
       "      <th>3</th>\n",
       "      <td>16.0</td>\n",
       "      <td>8</td>\n",
       "      <td>304.0</td>\n",
       "      <td>150.0</td>\n",
       "      <td>3433.0</td>\n",
       "      <td>12.0</td>\n",
       "      <td>70</td>\n",
       "      <td>1</td>\n",
       "      <td>amc rebel sst</td>\n",
       "    </tr>\n",
       "    <tr>\n",
       "      <th>4</th>\n",
       "      <td>17.0</td>\n",
       "      <td>8</td>\n",
       "      <td>302.0</td>\n",
       "      <td>140.0</td>\n",
       "      <td>3449.0</td>\n",
       "      <td>10.5</td>\n",
       "      <td>70</td>\n",
       "      <td>1</td>\n",
       "      <td>ford torino</td>\n",
       "    </tr>\n",
       "  </tbody>\n",
       "</table>\n",
       "</div>"
      ],
      "text/plain": [
       "    mpg  cylinders  displacement horsepower  weight  acceleration  model_year  \\\n",
       "0  18.0          8         307.0      130.0  3504.0          12.0          70   \n",
       "1  15.0          8         350.0      165.0  3693.0          11.5          70   \n",
       "2  18.0          8         318.0      150.0  3436.0          11.0          70   \n",
       "3  16.0          8         304.0      150.0  3433.0          12.0          70   \n",
       "4  17.0          8         302.0      140.0  3449.0          10.5          70   \n",
       "\n",
       "   origin                   car_name  \n",
       "0       1  chevrolet chevelle malibu  \n",
       "1       1          buick skylark 320  \n",
       "2       1         plymouth satellite  \n",
       "3       1              amc rebel sst  \n",
       "4       1                ford torino  "
      ]
     },
     "execution_count": 2,
     "metadata": {},
     "output_type": "execute_result"
    }
   ],
   "source": [
    "df = pd.read_csv('auto-mpg.data.txt', sep='\\s+', names=[\"mpg\",\n",
    "                                                        \"cylinders\",\n",
    "                                                        \"displacement\",\n",
    "                                                        \"horsepower\",\n",
    "                                                        \"weight\",\n",
    "                                                        \"acceleration\",\n",
    "                                                        \"model_year\",\n",
    "                                                        \"origin\",\n",
    "                                                        \"car_name\"])\n",
    "df.head()"
   ]
  },
  {
   "cell_type": "markdown",
   "metadata": {},
   "source": [
    "Можем смело убрать столбец **car name** из датасета, так как он не пригодится при решении задачи регрессии."
   ]
  },
  {
   "cell_type": "code",
   "execution_count": 3,
   "metadata": {},
   "outputs": [
    {
     "data": {
      "text/html": [
       "<div>\n",
       "<style scoped>\n",
       "    .dataframe tbody tr th:only-of-type {\n",
       "        vertical-align: middle;\n",
       "    }\n",
       "\n",
       "    .dataframe tbody tr th {\n",
       "        vertical-align: top;\n",
       "    }\n",
       "\n",
       "    .dataframe thead th {\n",
       "        text-align: right;\n",
       "    }\n",
       "</style>\n",
       "<table border=\"1\" class=\"dataframe\">\n",
       "  <thead>\n",
       "    <tr style=\"text-align: right;\">\n",
       "      <th></th>\n",
       "      <th>mpg</th>\n",
       "      <th>cylinders</th>\n",
       "      <th>displacement</th>\n",
       "      <th>horsepower</th>\n",
       "      <th>weight</th>\n",
       "      <th>acceleration</th>\n",
       "      <th>model_year</th>\n",
       "      <th>origin</th>\n",
       "    </tr>\n",
       "  </thead>\n",
       "  <tbody>\n",
       "    <tr>\n",
       "      <th>0</th>\n",
       "      <td>18.0</td>\n",
       "      <td>8</td>\n",
       "      <td>307.0</td>\n",
       "      <td>130.0</td>\n",
       "      <td>3504.0</td>\n",
       "      <td>12.0</td>\n",
       "      <td>70</td>\n",
       "      <td>1</td>\n",
       "    </tr>\n",
       "    <tr>\n",
       "      <th>1</th>\n",
       "      <td>15.0</td>\n",
       "      <td>8</td>\n",
       "      <td>350.0</td>\n",
       "      <td>165.0</td>\n",
       "      <td>3693.0</td>\n",
       "      <td>11.5</td>\n",
       "      <td>70</td>\n",
       "      <td>1</td>\n",
       "    </tr>\n",
       "    <tr>\n",
       "      <th>2</th>\n",
       "      <td>18.0</td>\n",
       "      <td>8</td>\n",
       "      <td>318.0</td>\n",
       "      <td>150.0</td>\n",
       "      <td>3436.0</td>\n",
       "      <td>11.0</td>\n",
       "      <td>70</td>\n",
       "      <td>1</td>\n",
       "    </tr>\n",
       "    <tr>\n",
       "      <th>3</th>\n",
       "      <td>16.0</td>\n",
       "      <td>8</td>\n",
       "      <td>304.0</td>\n",
       "      <td>150.0</td>\n",
       "      <td>3433.0</td>\n",
       "      <td>12.0</td>\n",
       "      <td>70</td>\n",
       "      <td>1</td>\n",
       "    </tr>\n",
       "    <tr>\n",
       "      <th>4</th>\n",
       "      <td>17.0</td>\n",
       "      <td>8</td>\n",
       "      <td>302.0</td>\n",
       "      <td>140.0</td>\n",
       "      <td>3449.0</td>\n",
       "      <td>10.5</td>\n",
       "      <td>70</td>\n",
       "      <td>1</td>\n",
       "    </tr>\n",
       "  </tbody>\n",
       "</table>\n",
       "</div>"
      ],
      "text/plain": [
       "    mpg  cylinders  displacement horsepower  weight  acceleration  model_year  \\\n",
       "0  18.0          8         307.0      130.0  3504.0          12.0          70   \n",
       "1  15.0          8         350.0      165.0  3693.0          11.5          70   \n",
       "2  18.0          8         318.0      150.0  3436.0          11.0          70   \n",
       "3  16.0          8         304.0      150.0  3433.0          12.0          70   \n",
       "4  17.0          8         302.0      140.0  3449.0          10.5          70   \n",
       "\n",
       "   origin  \n",
       "0       1  \n",
       "1       1  \n",
       "2       1  \n",
       "3       1  \n",
       "4       1  "
      ]
     },
     "execution_count": 3,
     "metadata": {},
     "output_type": "execute_result"
    }
   ],
   "source": [
    "df.drop('car_name', axis=1, inplace=True)\n",
    "df.head()"
   ]
  },
  {
   "cell_type": "code",
   "execution_count": 4,
   "metadata": {
    "scrolled": true
   },
   "outputs": [
    {
     "name": "stdout",
     "output_type": "stream",
     "text": [
      "<class 'pandas.core.frame.DataFrame'>\n",
      "RangeIndex: 398 entries, 0 to 397\n",
      "Data columns (total 8 columns):\n",
      " #   Column        Non-Null Count  Dtype  \n",
      "---  ------        --------------  -----  \n",
      " 0   mpg           398 non-null    float64\n",
      " 1   cylinders     398 non-null    int64  \n",
      " 2   displacement  398 non-null    float64\n",
      " 3   horsepower    398 non-null    object \n",
      " 4   weight        398 non-null    float64\n",
      " 5   acceleration  398 non-null    float64\n",
      " 6   model_year    398 non-null    int64  \n",
      " 7   origin        398 non-null    int64  \n",
      "dtypes: float64(4), int64(3), object(1)\n",
      "memory usage: 25.0+ KB\n"
     ]
    }
   ],
   "source": [
    "df.info()"
   ]
  },
  {
   "cell_type": "markdown",
   "metadata": {},
   "source": [
    "Приведём столбец **horsepower** к типу float"
   ]
  },
  {
   "cell_type": "code",
   "execution_count": 5,
   "metadata": {
    "scrolled": true
   },
   "outputs": [
    {
     "name": "stdout",
     "output_type": "stream",
     "text": [
      "<class 'pandas.core.frame.DataFrame'>\n",
      "RangeIndex: 398 entries, 0 to 397\n",
      "Data columns (total 8 columns):\n",
      " #   Column        Non-Null Count  Dtype  \n",
      "---  ------        --------------  -----  \n",
      " 0   mpg           398 non-null    float64\n",
      " 1   cylinders     398 non-null    int64  \n",
      " 2   displacement  398 non-null    float64\n",
      " 3   horsepower    392 non-null    float64\n",
      " 4   weight        398 non-null    float64\n",
      " 5   acceleration  398 non-null    float64\n",
      " 6   model_year    398 non-null    int64  \n",
      " 7   origin        398 non-null    int64  \n",
      "dtypes: float64(5), int64(3)\n",
      "memory usage: 25.0 KB\n"
     ]
    }
   ],
   "source": [
    "df.horsepower = df.horsepower.apply(lambda x: float(x) if x!='?' else None)\n",
    "df.info()"
   ]
  },
  {
   "cell_type": "markdown",
   "metadata": {},
   "source": [
    "Заполним пропуски в данных столбца **horsepower**"
   ]
  },
  {
   "cell_type": "code",
   "execution_count": 6,
   "metadata": {},
   "outputs": [],
   "source": [
    "df.horsepower = df.horsepower.transform(lambda x: x.fillna(x.mean()))"
   ]
  },
  {
   "cell_type": "markdown",
   "metadata": {},
   "source": [
    "### 2. Удалите дубликаты строк в наборе данных; приведите размер набора данных до и после данной операции"
   ]
  },
  {
   "cell_type": "code",
   "execution_count": 7,
   "metadata": {},
   "outputs": [
    {
     "name": "stdout",
     "output_type": "stream",
     "text": [
      "dataset size:  (398, 8)\n"
     ]
    }
   ],
   "source": [
    "df = df.drop_duplicates()\n",
    "df = df.dropna().reset_index(drop=True)\n",
    "print('dataset size: ', df.shape)"
   ]
  },
  {
   "cell_type": "markdown",
   "metadata": {},
   "source": [
    "### 3. Выполните масштабирование количественных признаков; Постройте диаграммы BoxPlot для признаков до и после масштабирования. Выберите способ масштабирования (например, нормализацию или стандартизацию)"
   ]
  },
  {
   "cell_type": "code",
   "execution_count": 8,
   "metadata": {},
   "outputs": [
    {
     "name": "stdout",
     "output_type": "stream",
     "text": [
      "numerical:  ['mpg', 'cylinders', 'displacement', 'horsepower', 'weight', 'acceleration', 'model_year', 'origin']\n",
      "categorial:  []\n"
     ]
    }
   ],
   "source": [
    "# выделим категориальные и числовые(количественные) признаки\n",
    "numerical_columns = [i for i in df.columns if df[i].dtype.name != 'object']\n",
    "categorial_columns = [i for i in df.columns if df[i].dtype.name == 'object']\n",
    "\n",
    "print('numerical: ', numerical_columns)\n",
    "print('categorial: ', categorial_columns)"
   ]
  },
  {
   "cell_type": "code",
   "execution_count": 9,
   "metadata": {
    "scrolled": true
   },
   "outputs": [
    {
     "data": {
      "image/png": "[encoded data removed]",
      "text/plain": [
       "<Figure size 720x360 with 1 Axes>"
      ]
     },
     "metadata": {
      "needs_background": "light"
     },
     "output_type": "display_data"
    }
   ],
   "source": [
    "plt.figure(figsize=(10,5))\n",
    "sns.boxplot(data=df[numerical_columns])\n",
    "plt.show()"
   ]
  },
  {
   "cell_type": "markdown",
   "metadata": {},
   "source": [
    "Место производства обозначено через ключи, поэтому оно должно относится к категориальным признакам. Количество цилиндров имеет несколько типов, промежуточные значения не допускаются. Преобразуем эти столбцы к строковому виду."
   ]
  },
  {
   "cell_type": "code",
   "execution_count": 10,
   "metadata": {},
   "outputs": [
    {
     "name": "stdout",
     "output_type": "stream",
     "text": [
      "numerical:  ['mpg', 'displacement', 'horsepower', 'weight', 'acceleration', 'model_year']\n",
      "categorial:  ['cylinders', 'origin']\n"
     ]
    }
   ],
   "source": [
    "df['cylinders'] = df['cylinders'].apply(lambda x: str(x))\n",
    "df['origin'] = df['origin'].apply(lambda x: str(x))\n",
    "\n",
    "#заново выделим категориальные и числовые\n",
    "numerical_columns = [i for i in df.columns if df[i].dtype.name != 'object']\n",
    "categorial_columns = [i for i in df.columns if df[i].dtype.name == 'object']\n",
    "\n",
    "print('numerical: ', numerical_columns)\n",
    "print('categorial: ', categorial_columns)"
   ]
  },
  {
   "cell_type": "markdown",
   "metadata": {},
   "source": [
    "В качестве способа масштабирования выберем метод нормализации."
   ]
  },
  {
   "cell_type": "code",
   "execution_count": 11,
   "metadata": {},
   "outputs": [
    {
     "data": {
      "text/html": [
       "<div>\n",
       "<style scoped>\n",
       "    .dataframe tbody tr th:only-of-type {\n",
       "        vertical-align: middle;\n",
       "    }\n",
       "\n",
       "    .dataframe tbody tr th {\n",
       "        vertical-align: top;\n",
       "    }\n",
       "\n",
       "    .dataframe thead th {\n",
       "        text-align: right;\n",
       "    }\n",
       "</style>\n",
       "<table border=\"1\" class=\"dataframe\">\n",
       "  <thead>\n",
       "    <tr style=\"text-align: right;\">\n",
       "      <th></th>\n",
       "      <th>mpg</th>\n",
       "      <th>cylinders</th>\n",
       "      <th>displacement</th>\n",
       "      <th>horsepower</th>\n",
       "      <th>weight</th>\n",
       "      <th>acceleration</th>\n",
       "      <th>model_year</th>\n",
       "      <th>origin</th>\n",
       "    </tr>\n",
       "  </thead>\n",
       "  <tbody>\n",
       "    <tr>\n",
       "      <th>0</th>\n",
       "      <td>0.239362</td>\n",
       "      <td>8</td>\n",
       "      <td>0.617571</td>\n",
       "      <td>0.456522</td>\n",
       "      <td>0.536150</td>\n",
       "      <td>0.238095</td>\n",
       "      <td>0.0</td>\n",
       "      <td>1</td>\n",
       "    </tr>\n",
       "    <tr>\n",
       "      <th>1</th>\n",
       "      <td>0.159574</td>\n",
       "      <td>8</td>\n",
       "      <td>0.728682</td>\n",
       "      <td>0.646739</td>\n",
       "      <td>0.589736</td>\n",
       "      <td>0.208333</td>\n",
       "      <td>0.0</td>\n",
       "      <td>1</td>\n",
       "    </tr>\n",
       "    <tr>\n",
       "      <th>2</th>\n",
       "      <td>0.239362</td>\n",
       "      <td>8</td>\n",
       "      <td>0.645995</td>\n",
       "      <td>0.565217</td>\n",
       "      <td>0.516870</td>\n",
       "      <td>0.178571</td>\n",
       "      <td>0.0</td>\n",
       "      <td>1</td>\n",
       "    </tr>\n",
       "    <tr>\n",
       "      <th>3</th>\n",
       "      <td>0.186170</td>\n",
       "      <td>8</td>\n",
       "      <td>0.609819</td>\n",
       "      <td>0.565217</td>\n",
       "      <td>0.516019</td>\n",
       "      <td>0.238095</td>\n",
       "      <td>0.0</td>\n",
       "      <td>1</td>\n",
       "    </tr>\n",
       "    <tr>\n",
       "      <th>4</th>\n",
       "      <td>0.212766</td>\n",
       "      <td>8</td>\n",
       "      <td>0.604651</td>\n",
       "      <td>0.510870</td>\n",
       "      <td>0.520556</td>\n",
       "      <td>0.148810</td>\n",
       "      <td>0.0</td>\n",
       "      <td>1</td>\n",
       "    </tr>\n",
       "  </tbody>\n",
       "</table>\n",
       "</div>"
      ],
      "text/plain": [
       "        mpg cylinders  displacement  horsepower    weight  acceleration  \\\n",
       "0  0.239362         8      0.617571    0.456522  0.536150      0.238095   \n",
       "1  0.159574         8      0.728682    0.646739  0.589736      0.208333   \n",
       "2  0.239362         8      0.645995    0.565217  0.516870      0.178571   \n",
       "3  0.186170         8      0.609819    0.565217  0.516019      0.238095   \n",
       "4  0.212766         8      0.604651    0.510870  0.520556      0.148810   \n",
       "\n",
       "   model_year origin  \n",
       "0         0.0      1  \n",
       "1         0.0      1  \n",
       "2         0.0      1  \n",
       "3         0.0      1  \n",
       "4         0.0      1  "
      ]
     },
     "execution_count": 11,
     "metadata": {},
     "output_type": "execute_result"
    }
   ],
   "source": [
    "scaler = MinMaxScaler()\n",
    "df[numerical_columns] = scaler.fit_transform(df[numerical_columns])\n",
    "df.head()"
   ]
  },
  {
   "cell_type": "code",
   "execution_count": 12,
   "metadata": {},
   "outputs": [
    {
     "data": {
      "image/png": "[encoded data removed]",
      "text/plain": [
       "<Figure size 720x432 with 1 Axes>"
      ]
     },
     "metadata": {
      "needs_background": "light"
     },
     "output_type": "display_data"
    }
   ],
   "source": [
    "plt.figure(figsize=(10,6))\n",
    "sns.boxplot(data=df[numerical_columns])\n",
    "plt.show()"
   ]
  },
  {
   "cell_type": "markdown",
   "metadata": {},
   "source": [
    "### 4.\tВыполните замену категориальных признаков; выберите и обоснуйте способ замены"
   ]
  },
  {
   "cell_type": "code",
   "execution_count": 13,
   "metadata": {},
   "outputs": [
    {
     "name": "stdout",
     "output_type": "stream",
     "text": [
      "cylinders :  ['8' '4' '6' '3' '5']\n",
      "origin :  ['1' '3' '2']\n"
     ]
    }
   ],
   "source": [
    "# выведем уникальные значения \n",
    "for i in categorial_columns:\n",
    "    print(i,': ', df[i].unique())"
   ]
  },
  {
   "cell_type": "markdown",
   "metadata": {},
   "source": [
    "Уникальных значений оказалось не много, поэтмому можно применить dummy-кодирование"
   ]
  },
  {
   "cell_type": "code",
   "execution_count": 14,
   "metadata": {},
   "outputs": [
    {
     "name": "stdout",
     "output_type": "stream",
     "text": [
      "(398, 14)\n"
     ]
    },
    {
     "data": {
      "text/html": [
       "<div>\n",
       "<style scoped>\n",
       "    .dataframe tbody tr th:only-of-type {\n",
       "        vertical-align: middle;\n",
       "    }\n",
       "\n",
       "    .dataframe tbody tr th {\n",
       "        vertical-align: top;\n",
       "    }\n",
       "\n",
       "    .dataframe thead th {\n",
       "        text-align: right;\n",
       "    }\n",
       "</style>\n",
       "<table border=\"1\" class=\"dataframe\">\n",
       "  <thead>\n",
       "    <tr style=\"text-align: right;\">\n",
       "      <th></th>\n",
       "      <th>cylinders_3</th>\n",
       "      <th>cylinders_4</th>\n",
       "      <th>cylinders_5</th>\n",
       "      <th>cylinders_6</th>\n",
       "      <th>cylinders_8</th>\n",
       "      <th>origin_1</th>\n",
       "      <th>origin_2</th>\n",
       "      <th>origin_3</th>\n",
       "      <th>mpg</th>\n",
       "      <th>displacement</th>\n",
       "      <th>horsepower</th>\n",
       "      <th>weight</th>\n",
       "      <th>acceleration</th>\n",
       "      <th>model_year</th>\n",
       "    </tr>\n",
       "  </thead>\n",
       "  <tbody>\n",
       "    <tr>\n",
       "      <th>0</th>\n",
       "      <td>0</td>\n",
       "      <td>0</td>\n",
       "      <td>0</td>\n",
       "      <td>0</td>\n",
       "      <td>1</td>\n",
       "      <td>1</td>\n",
       "      <td>0</td>\n",
       "      <td>0</td>\n",
       "      <td>0.239362</td>\n",
       "      <td>0.617571</td>\n",
       "      <td>0.456522</td>\n",
       "      <td>0.536150</td>\n",
       "      <td>0.238095</td>\n",
       "      <td>0.0</td>\n",
       "    </tr>\n",
       "    <tr>\n",
       "      <th>1</th>\n",
       "      <td>0</td>\n",
       "      <td>0</td>\n",
       "      <td>0</td>\n",
       "      <td>0</td>\n",
       "      <td>1</td>\n",
       "      <td>1</td>\n",
       "      <td>0</td>\n",
       "      <td>0</td>\n",
       "      <td>0.159574</td>\n",
       "      <td>0.728682</td>\n",
       "      <td>0.646739</td>\n",
       "      <td>0.589736</td>\n",
       "      <td>0.208333</td>\n",
       "      <td>0.0</td>\n",
       "    </tr>\n",
       "    <tr>\n",
       "      <th>2</th>\n",
       "      <td>0</td>\n",
       "      <td>0</td>\n",
       "      <td>0</td>\n",
       "      <td>0</td>\n",
       "      <td>1</td>\n",
       "      <td>1</td>\n",
       "      <td>0</td>\n",
       "      <td>0</td>\n",
       "      <td>0.239362</td>\n",
       "      <td>0.645995</td>\n",
       "      <td>0.565217</td>\n",
       "      <td>0.516870</td>\n",
       "      <td>0.178571</td>\n",
       "      <td>0.0</td>\n",
       "    </tr>\n",
       "    <tr>\n",
       "      <th>3</th>\n",
       "      <td>0</td>\n",
       "      <td>0</td>\n",
       "      <td>0</td>\n",
       "      <td>0</td>\n",
       "      <td>1</td>\n",
       "      <td>1</td>\n",
       "      <td>0</td>\n",
       "      <td>0</td>\n",
       "      <td>0.186170</td>\n",
       "      <td>0.609819</td>\n",
       "      <td>0.565217</td>\n",
       "      <td>0.516019</td>\n",
       "      <td>0.238095</td>\n",
       "      <td>0.0</td>\n",
       "    </tr>\n",
       "    <tr>\n",
       "      <th>4</th>\n",
       "      <td>0</td>\n",
       "      <td>0</td>\n",
       "      <td>0</td>\n",
       "      <td>0</td>\n",
       "      <td>1</td>\n",
       "      <td>1</td>\n",
       "      <td>0</td>\n",
       "      <td>0</td>\n",
       "      <td>0.212766</td>\n",
       "      <td>0.604651</td>\n",
       "      <td>0.510870</td>\n",
       "      <td>0.520556</td>\n",
       "      <td>0.148810</td>\n",
       "      <td>0.0</td>\n",
       "    </tr>\n",
       "  </tbody>\n",
       "</table>\n",
       "</div>"
      ],
      "text/plain": [
       "   cylinders_3  cylinders_4  cylinders_5  cylinders_6  cylinders_8  origin_1  \\\n",
       "0            0            0            0            0            1         1   \n",
       "1            0            0            0            0            1         1   \n",
       "2            0            0            0            0            1         1   \n",
       "3            0            0            0            0            1         1   \n",
       "4            0            0            0            0            1         1   \n",
       "\n",
       "   origin_2  origin_3       mpg  displacement  horsepower    weight  \\\n",
       "0         0         0  0.239362      0.617571    0.456522  0.536150   \n",
       "1         0         0  0.159574      0.728682    0.646739  0.589736   \n",
       "2         0         0  0.239362      0.645995    0.565217  0.516870   \n",
       "3         0         0  0.186170      0.609819    0.565217  0.516019   \n",
       "4         0         0  0.212766      0.604651    0.510870  0.520556   \n",
       "\n",
       "   acceleration  model_year  \n",
       "0      0.238095         0.0  \n",
       "1      0.208333         0.0  \n",
       "2      0.178571         0.0  \n",
       "3      0.238095         0.0  \n",
       "4      0.148810         0.0  "
      ]
     },
     "execution_count": 14,
     "metadata": {},
     "output_type": "execute_result"
    }
   ],
   "source": [
    "df_categorial = pd.get_dummies(df[categorial_columns])\n",
    "df.drop(categorial_columns, axis=1, inplace=True)\n",
    "df = pd.concat([df_categorial, df] , axis=1)\n",
    "\n",
    "print(df.shape)\n",
    "df.head()"
   ]
  },
  {
   "cell_type": "markdown",
   "metadata": {},
   "source": [
    "### 5. Оцените корреляцию между признаков и удалите те признаки, которые коррелируют с наибольшим числом других"
   ]
  },
  {
   "cell_type": "code",
   "execution_count": 15,
   "metadata": {},
   "outputs": [
    {
     "data": {
      "image/png": "[encoded data removed]",
      "text/plain": [
       "<Figure size 432x288 with 2 Axes>"
      ]
     },
     "metadata": {
      "needs_background": "light"
     },
     "output_type": "display_data"
    }
   ],
   "source": [
    "df_corr = df.drop('mpg', axis=1).corr()\n",
    "sns.heatmap(df_corr)\n",
    "plt.show()"
   ]
  },
  {
   "cell_type": "code",
   "execution_count": 16,
   "metadata": {},
   "outputs": [
    {
     "data": {
      "text/html": [
       "<div>\n",
       "<style scoped>\n",
       "    .dataframe tbody tr th:only-of-type {\n",
       "        vertical-align: middle;\n",
       "    }\n",
       "\n",
       "    .dataframe tbody tr th {\n",
       "        vertical-align: top;\n",
       "    }\n",
       "\n",
       "    .dataframe thead th {\n",
       "        text-align: right;\n",
       "    }\n",
       "</style>\n",
       "<table border=\"1\" class=\"dataframe\">\n",
       "  <thead>\n",
       "    <tr style=\"text-align: right;\">\n",
       "      <th></th>\n",
       "      <th>cylinders_3</th>\n",
       "      <th>cylinders_4</th>\n",
       "      <th>cylinders_5</th>\n",
       "      <th>cylinders_6</th>\n",
       "      <th>cylinders_8</th>\n",
       "      <th>origin_1</th>\n",
       "      <th>origin_2</th>\n",
       "      <th>origin_3</th>\n",
       "      <th>displacement</th>\n",
       "      <th>horsepower</th>\n",
       "      <th>weight</th>\n",
       "      <th>acceleration</th>\n",
       "      <th>model_year</th>\n",
       "    </tr>\n",
       "  </thead>\n",
       "  <tbody>\n",
       "    <tr>\n",
       "      <th>cylinders_3</th>\n",
       "      <td>1.000000</td>\n",
       "      <td>-0.103323</td>\n",
       "      <td>-0.008781</td>\n",
       "      <td>-0.052114</td>\n",
       "      <td>-0.059537</td>\n",
       "      <td>-0.130253</td>\n",
       "      <td>-0.046547</td>\n",
       "      <td>0.202471</td>\n",
       "      <td>-0.117001</td>\n",
       "      <td>-0.013785</td>\n",
       "      <td>-0.068134</td>\n",
       "      <td>-0.084803</td>\n",
       "      <td>-0.013916</td>\n",
       "    </tr>\n",
       "    <tr>\n",
       "      <th>cylinders_4</th>\n",
       "      <td>-0.103323</td>\n",
       "      <td>1.000000</td>\n",
       "      <td>-0.089367</td>\n",
       "      <td>-0.530382</td>\n",
       "      <td>-0.605929</td>\n",
       "      <td>-0.577788</td>\n",
       "      <td>0.358080</td>\n",
       "      <td>0.359268</td>\n",
       "      <td>-0.823494</td>\n",
       "      <td>-0.686643</td>\n",
       "      <td>-0.802992</td>\n",
       "      <td>0.384747</td>\n",
       "      <td>0.295302</td>\n",
       "    </tr>\n",
       "    <tr>\n",
       "      <th>cylinders_5</th>\n",
       "      <td>-0.008781</td>\n",
       "      <td>-0.089367</td>\n",
       "      <td>1.000000</td>\n",
       "      <td>-0.045075</td>\n",
       "      <td>-0.051496</td>\n",
       "      <td>-0.112660</td>\n",
       "      <td>0.188647</td>\n",
       "      <td>-0.043369</td>\n",
       "      <td>-0.040525</td>\n",
       "      <td>-0.050566</td>\n",
       "      <td>0.013695</td>\n",
       "      <td>0.096990</td>\n",
       "      <td>0.070558</td>\n",
       "    </tr>\n",
       "    <tr>\n",
       "      <th>cylinders_6</th>\n",
       "      <td>-0.052114</td>\n",
       "      <td>-0.530382</td>\n",
       "      <td>-0.045075</td>\n",
       "      <td>1.000000</td>\n",
       "      <td>-0.305620</td>\n",
       "      <td>0.272871</td>\n",
       "      <td>-0.174247</td>\n",
       "      <td>-0.164767</td>\n",
       "      <td>0.122760</td>\n",
       "      <td>-0.039696</td>\n",
       "      <td>0.139308</td>\n",
       "      <td>0.130516</td>\n",
       "      <td>-0.011412</td>\n",
       "    </tr>\n",
       "    <tr>\n",
       "      <th>cylinders_8</th>\n",
       "      <td>-0.059537</td>\n",
       "      <td>-0.605929</td>\n",
       "      <td>-0.051496</td>\n",
       "      <td>-0.305620</td>\n",
       "      <td>1.000000</td>\n",
       "      <td>0.457089</td>\n",
       "      <td>-0.272973</td>\n",
       "      <td>-0.294053</td>\n",
       "      <td>0.860098</td>\n",
       "      <td>0.833752</td>\n",
       "      <td>0.799446</td>\n",
       "      <td>-0.560540</td>\n",
       "      <td>-0.337150</td>\n",
       "    </tr>\n",
       "    <tr>\n",
       "      <th>origin_1</th>\n",
       "      <td>-0.130253</td>\n",
       "      <td>-0.577788</td>\n",
       "      <td>-0.112660</td>\n",
       "      <td>0.272871</td>\n",
       "      <td>0.457089</td>\n",
       "      <td>1.000000</td>\n",
       "      <td>-0.597198</td>\n",
       "      <td>-0.643317</td>\n",
       "      <td>0.651407</td>\n",
       "      <td>0.486083</td>\n",
       "      <td>0.598398</td>\n",
       "      <td>-0.250806</td>\n",
       "      <td>-0.139883</td>\n",
       "    </tr>\n",
       "    <tr>\n",
       "      <th>origin_2</th>\n",
       "      <td>-0.046547</td>\n",
       "      <td>0.358080</td>\n",
       "      <td>0.188647</td>\n",
       "      <td>-0.174247</td>\n",
       "      <td>-0.272973</td>\n",
       "      <td>-0.597198</td>\n",
       "      <td>1.000000</td>\n",
       "      <td>-0.229895</td>\n",
       "      <td>-0.373886</td>\n",
       "      <td>-0.281258</td>\n",
       "      <td>-0.298843</td>\n",
       "      <td>0.204473</td>\n",
       "      <td>-0.024489</td>\n",
       "    </tr>\n",
       "    <tr>\n",
       "      <th>origin_3</th>\n",
       "      <td>0.202471</td>\n",
       "      <td>0.359268</td>\n",
       "      <td>-0.043369</td>\n",
       "      <td>-0.164767</td>\n",
       "      <td>-0.294053</td>\n",
       "      <td>-0.643317</td>\n",
       "      <td>-0.229895</td>\n",
       "      <td>1.000000</td>\n",
       "      <td>-0.433505</td>\n",
       "      <td>-0.321325</td>\n",
       "      <td>-0.440817</td>\n",
       "      <td>0.109144</td>\n",
       "      <td>0.193101</td>\n",
       "    </tr>\n",
       "    <tr>\n",
       "      <th>displacement</th>\n",
       "      <td>-0.117001</td>\n",
       "      <td>-0.823494</td>\n",
       "      <td>-0.040525</td>\n",
       "      <td>0.122760</td>\n",
       "      <td>0.860098</td>\n",
       "      <td>0.651407</td>\n",
       "      <td>-0.373886</td>\n",
       "      <td>-0.433505</td>\n",
       "      <td>1.000000</td>\n",
       "      <td>0.893646</td>\n",
       "      <td>0.932824</td>\n",
       "      <td>-0.543684</td>\n",
       "      <td>-0.370164</td>\n",
       "    </tr>\n",
       "    <tr>\n",
       "      <th>horsepower</th>\n",
       "      <td>-0.013785</td>\n",
       "      <td>-0.686643</td>\n",
       "      <td>-0.050566</td>\n",
       "      <td>-0.039696</td>\n",
       "      <td>0.833752</td>\n",
       "      <td>0.486083</td>\n",
       "      <td>-0.281258</td>\n",
       "      <td>-0.321325</td>\n",
       "      <td>0.893646</td>\n",
       "      <td>1.000000</td>\n",
       "      <td>0.860574</td>\n",
       "      <td>-0.684259</td>\n",
       "      <td>-0.411651</td>\n",
       "    </tr>\n",
       "    <tr>\n",
       "      <th>weight</th>\n",
       "      <td>-0.068134</td>\n",
       "      <td>-0.802992</td>\n",
       "      <td>0.013695</td>\n",
       "      <td>0.139308</td>\n",
       "      <td>0.799446</td>\n",
       "      <td>0.598398</td>\n",
       "      <td>-0.298843</td>\n",
       "      <td>-0.440817</td>\n",
       "      <td>0.932824</td>\n",
       "      <td>0.860574</td>\n",
       "      <td>1.000000</td>\n",
       "      <td>-0.417457</td>\n",
       "      <td>-0.306564</td>\n",
       "    </tr>\n",
       "    <tr>\n",
       "      <th>acceleration</th>\n",
       "      <td>-0.084803</td>\n",
       "      <td>0.384747</td>\n",
       "      <td>0.096990</td>\n",
       "      <td>0.130516</td>\n",
       "      <td>-0.560540</td>\n",
       "      <td>-0.250806</td>\n",
       "      <td>0.204473</td>\n",
       "      <td>0.109144</td>\n",
       "      <td>-0.543684</td>\n",
       "      <td>-0.684259</td>\n",
       "      <td>-0.417457</td>\n",
       "      <td>1.000000</td>\n",
       "      <td>0.288137</td>\n",
       "    </tr>\n",
       "    <tr>\n",
       "      <th>model_year</th>\n",
       "      <td>-0.013916</td>\n",
       "      <td>0.295302</td>\n",
       "      <td>0.070558</td>\n",
       "      <td>-0.011412</td>\n",
       "      <td>-0.337150</td>\n",
       "      <td>-0.139883</td>\n",
       "      <td>-0.024489</td>\n",
       "      <td>0.193101</td>\n",
       "      <td>-0.370164</td>\n",
       "      <td>-0.411651</td>\n",
       "      <td>-0.306564</td>\n",
       "      <td>0.288137</td>\n",
       "      <td>1.000000</td>\n",
       "    </tr>\n",
       "  </tbody>\n",
       "</table>\n",
       "</div>"
      ],
      "text/plain": [
       "              cylinders_3  cylinders_4  cylinders_5  cylinders_6  cylinders_8  \\\n",
       "cylinders_3      1.000000    -0.103323    -0.008781    -0.052114    -0.059537   \n",
       "cylinders_4     -0.103323     1.000000    -0.089367    -0.530382    -0.605929   \n",
       "cylinders_5     -0.008781    -0.089367     1.000000    -0.045075    -0.051496   \n",
       "cylinders_6     -0.052114    -0.530382    -0.045075     1.000000    -0.305620   \n",
       "cylinders_8     -0.059537    -0.605929    -0.051496    -0.305620     1.000000   \n",
       "origin_1        -0.130253    -0.577788    -0.112660     0.272871     0.457089   \n",
       "origin_2        -0.046547     0.358080     0.188647    -0.174247    -0.272973   \n",
       "origin_3         0.202471     0.359268    -0.043369    -0.164767    -0.294053   \n",
       "displacement    -0.117001    -0.823494    -0.040525     0.122760     0.860098   \n",
       "horsepower      -0.013785    -0.686643    -0.050566    -0.039696     0.833752   \n",
       "weight          -0.068134    -0.802992     0.013695     0.139308     0.799446   \n",
       "acceleration    -0.084803     0.384747     0.096990     0.130516    -0.560540   \n",
       "model_year      -0.013916     0.295302     0.070558    -0.011412    -0.337150   \n",
       "\n",
       "              origin_1  origin_2  origin_3  displacement  horsepower  \\\n",
       "cylinders_3  -0.130253 -0.046547  0.202471     -0.117001   -0.013785   \n",
       "cylinders_4  -0.577788  0.358080  0.359268     -0.823494   -0.686643   \n",
       "cylinders_5  -0.112660  0.188647 -0.043369     -0.040525   -0.050566   \n",
       "cylinders_6   0.272871 -0.174247 -0.164767      0.122760   -0.039696   \n",
       "cylinders_8   0.457089 -0.272973 -0.294053      0.860098    0.833752   \n",
       "origin_1      1.000000 -0.597198 -0.643317      0.651407    0.486083   \n",
       "origin_2     -0.597198  1.000000 -0.229895     -0.373886   -0.281258   \n",
       "origin_3     -0.643317 -0.229895  1.000000     -0.433505   -0.321325   \n",
       "displacement  0.651407 -0.373886 -0.433505      1.000000    0.893646   \n",
       "horsepower    0.486083 -0.281258 -0.321325      0.893646    1.000000   \n",
       "weight        0.598398 -0.298843 -0.440817      0.932824    0.860574   \n",
       "acceleration -0.250806  0.204473  0.109144     -0.543684   -0.684259   \n",
       "model_year   -0.139883 -0.024489  0.193101     -0.370164   -0.411651   \n",
       "\n",
       "                weight  acceleration  model_year  \n",
       "cylinders_3  -0.068134     -0.084803   -0.013916  \n",
       "cylinders_4  -0.802992      0.384747    0.295302  \n",
       "cylinders_5   0.013695      0.096990    0.070558  \n",
       "cylinders_6   0.139308      0.130516   -0.011412  \n",
       "cylinders_8   0.799446     -0.560540   -0.337150  \n",
       "origin_1      0.598398     -0.250806   -0.139883  \n",
       "origin_2     -0.298843      0.204473   -0.024489  \n",
       "origin_3     -0.440817      0.109144    0.193101  \n",
       "displacement  0.932824     -0.543684   -0.370164  \n",
       "horsepower    0.860574     -0.684259   -0.411651  \n",
       "weight        1.000000     -0.417457   -0.306564  \n",
       "acceleration -0.417457      1.000000    0.288137  \n",
       "model_year   -0.306564      0.288137    1.000000  "
      ]
     },
     "execution_count": 16,
     "metadata": {},
     "output_type": "execute_result"
    }
   ],
   "source": [
    "df_corr"
   ]
  },
  {
   "cell_type": "markdown",
   "metadata": {},
   "source": [
    "По диаграмме видно, что литраж сильно коррелирует с мощностью, весом, и ускорением. Поэтому удалим этот параметр из датасета"
   ]
  },
  {
   "cell_type": "code",
   "execution_count": 17,
   "metadata": {},
   "outputs": [],
   "source": [
    "df.drop('displacement', axis=1, inplace=True)"
   ]
  },
  {
   "cell_type": "markdown",
   "metadata": {},
   "source": [
    "### 6. Заполните пропущенные значения в данных"
   ]
  },
  {
   "cell_type": "code",
   "execution_count": 18,
   "metadata": {
    "scrolled": true
   },
   "outputs": [
    {
     "name": "stdout",
     "output_type": "stream",
     "text": [
      "<class 'pandas.core.frame.DataFrame'>\n",
      "RangeIndex: 398 entries, 0 to 397\n",
      "Data columns (total 13 columns):\n",
      " #   Column        Non-Null Count  Dtype  \n",
      "---  ------        --------------  -----  \n",
      " 0   cylinders_3   398 non-null    uint8  \n",
      " 1   cylinders_4   398 non-null    uint8  \n",
      " 2   cylinders_5   398 non-null    uint8  \n",
      " 3   cylinders_6   398 non-null    uint8  \n",
      " 4   cylinders_8   398 non-null    uint8  \n",
      " 5   origin_1      398 non-null    uint8  \n",
      " 6   origin_2      398 non-null    uint8  \n",
      " 7   origin_3      398 non-null    uint8  \n",
      " 8   mpg           398 non-null    float64\n",
      " 9   horsepower    398 non-null    float64\n",
      " 10  weight        398 non-null    float64\n",
      " 11  acceleration  398 non-null    float64\n",
      " 12  model_year    398 non-null    float64\n",
      "dtypes: float64(5), uint8(8)\n",
      "memory usage: 18.8 KB\n"
     ]
    }
   ],
   "source": [
    "df.info()"
   ]
  },
  {
   "cell_type": "markdown",
   "metadata": {},
   "source": [
    "Как мы видим - пропущенных значений не обнаружено"
   ]
  },
  {
   "cell_type": "markdown",
   "metadata": {},
   "source": [
    "### 7.\tРешите поставленную задачу регрессии в соответствии с заданием. При подборе параметров метода принятия решения (метода регрессии) используйтеперекрёстную проверку (изучите возможные для изменения параметры метода регрессии). Вычислите точность решения задачи, вычислив разницу между реальным значением и предсказанным. Вычислите коэффициент корреляции (Пирсона, Спирмена) между реальным значением и предсказаннымс учётом p-value\n",
    " * 1 - Линейная регрессия без использования регуляризаторов\n",
    " * 3 - Линейная регрессия, RIDGE регуляризатор\n"
   ]
  },
  {
   "cell_type": "code",
   "execution_count": 19,
   "metadata": {},
   "outputs": [],
   "source": [
    "# разделим полученные данные на данные для обучения и теста\n",
    "X, y = df.drop('mpg', axis=1), df['mpg']\n",
    "X_train, X_test, y_train, y_test = train_test_split(X, y, test_size = 0.3, random_state = 42)"
   ]
  },
  {
   "cell_type": "markdown",
   "metadata": {},
   "source": [
    "**Линейная регрессия без использования регуляризаторов**"
   ]
  },
  {
   "cell_type": "code",
   "execution_count": 20,
   "metadata": {},
   "outputs": [
    {
     "name": "stdout",
     "output_type": "stream",
     "text": [
      "198    0.008187\n",
      "396    0.051321\n",
      "33    -0.004239\n",
      "208    0.116273\n",
      "93    -0.011885\n",
      "84     0.025183\n",
      "373    0.110829\n",
      "94    -0.098570\n",
      "222    0.045047\n",
      "126   -0.026180\n",
      "9     -0.073637\n",
      "383   -0.038855\n",
      "56    -0.010721\n",
      "72    -0.011137\n",
      "132   -0.019282\n",
      "Name: mpg, dtype: float64\n"
     ]
    }
   ],
   "source": [
    "regr = linear_model.LinearRegression()\n",
    "regr.fit(X_train,y_train)\n",
    "pred_regr = regr.predict(X_test)\n",
    "print(pred_regr[:15] - y_test[:15])"
   ]
  },
  {
   "cell_type": "code",
   "execution_count": 21,
   "metadata": {},
   "outputs": [
    {
     "name": "stdout",
     "output_type": "stream",
     "text": [
      "pearson correlation:  0.9301591754329479    p-value:  3.535135978294441e-53\n",
      "spearmen correlation:  0.949198517938917    p-value:  4.320558294253148e-61\n"
     ]
    }
   ],
   "source": [
    "corr = {}\n",
    "corr['pearson'], pvalue_pearson = pearsonr(pred_regr, y_test)\n",
    "corr['spearman'], pvalue_spearman = spearmanr(pred_regr, y_test)\n",
    "print('pearson correlation: ', corr['pearson'], '   p-value: ', pvalue_pearson)\n",
    "print('spearmen correlation: ', corr['spearman'], '   p-value: ', pvalue_spearman)"
   ]
  },
  {
   "cell_type": "markdown",
   "metadata": {},
   "source": [
    "**Линейная регрессия, RIDGE регуляризатор**"
   ]
  },
  {
   "cell_type": "code",
   "execution_count": 22,
   "metadata": {},
   "outputs": [
    {
     "name": "stdout",
     "output_type": "stream",
     "text": [
      "best alpha: 0.30000000000000004\n"
     ]
    }
   ],
   "source": [
    "import warnings\n",
    "warnings.filterwarnings(\"ignore\")\n",
    "\n",
    "regr = linear_model.Ridge()\n",
    "params = {'alpha': np.arange(0, 3, 0.05)}\n",
    "regr_grid = GridSearchCV(regr, params)\n",
    "regr_grid.fit(X_train, y_train)\n",
    "best_alpha = regr_grid.best_estimator_.alpha\n",
    "print('best alpha:', best_alpha)"
   ]
  },
  {
   "cell_type": "code",
   "execution_count": 23,
   "metadata": {},
   "outputs": [
    {
     "name": "stdout",
     "output_type": "stream",
     "text": [
      "198    0.001102\n",
      "396    0.053116\n",
      "33    -0.004400\n",
      "208    0.113889\n",
      "93    -0.007439\n",
      "84     0.018451\n",
      "373    0.117183\n",
      "94    -0.094047\n",
      "222    0.046295\n",
      "126   -0.028635\n",
      "9     -0.077777\n",
      "383   -0.049632\n",
      "56    -0.013231\n",
      "72    -0.011672\n",
      "132   -0.010926\n",
      "Name: mpg, dtype: float64\n"
     ]
    }
   ],
   "source": [
    "regr = linear_model.Ridge(alpha=best_alpha)\n",
    "regr.fit(X_train,y_train)\n",
    "pred_regr = regr.predict(X_test)\n",
    "print(pred_regr[:15] - y_test[:15])"
   ]
  },
  {
   "cell_type": "code",
   "execution_count": 24,
   "metadata": {},
   "outputs": [
    {
     "name": "stdout",
     "output_type": "stream",
     "text": [
      "pearson correlation:  0.9311007322713899    p-value:  1.6318533758287591e-53\n",
      "spearmen correlation:  0.9504612593003439    p-value:  1.0153445748639758e-61\n"
     ]
    }
   ],
   "source": [
    "corr = {}\n",
    "corr['pearson'], pvalue_pearson = pearsonr(pred_regr, y_test)\n",
    "corr['spearman'], pvalue_spearman = spearmanr(pred_regr, y_test)\n",
    "print('pearson correlation: ', corr['pearson'], '   p-value: ', pvalue_pearson)\n",
    "print('spearmen correlation: ', corr['spearman'], '   p-value: ', pvalue_spearman)"
   ]
  },
  {
   "cell_type": "code",
   "execution_count": null,
   "metadata": {},
   "outputs": [],
   "source": []
  }
 ],
 "metadata": {
  "kernelspec": {
   "display_name": "Python 3",
   "language": "python",
   "name": "python3"
  },
  "language_info": {
   "codemirror_mode": {
    "name": "ipython",
    "version": 3
   },
   "file_extension": ".py",
   "mimetype": "text/x-python",
   "name": "python",
   "nbconvert_exporter": "python",
   "pygments_lexer": "ipython3",
   "version": "3.8.5"
  }
 },
 "nbformat": 4,
 "nbformat_minor": 2
}
