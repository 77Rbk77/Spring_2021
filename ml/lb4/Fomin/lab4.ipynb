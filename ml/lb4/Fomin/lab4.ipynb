{
 "cells": [
  {
   "cell_type": "markdown",
   "metadata": {},
   "source": [
    "# Отчёт по лабораторной работе №4\n",
    "## по дисциплине Машинное обучение\n",
    "## Вариант 12\n",
    "### Выполнил: Фомин Е. Н.     19-ИВТ-3"
   ]
  },
  {
   "cell_type": "code",
   "execution_count": 1,
   "metadata": {},
   "outputs": [],
   "source": [
    "import matplotlib.pyplot as plt\n",
    "import numpy as np\n",
    "import pandas as pd\n",
    "import seaborn as sn\n",
    "import sklearn as sk\n",
    "import warnings\n",
    "from pylab import rcParams      # Для изменения размеров гистрограммы\n",
    "from sklearn.preprocessing import LabelEncoder\n",
    "from sklearn.preprocessing import MinMaxScaler\n",
    "\n",
    "encoder = LabelEncoder()\n",
    "\n",
    "%matplotlib inline\n",
    "warnings.filterwarnings(\"ignore\")"
   ]
  },
  {
   "cell_type": "markdown",
   "metadata": {},
   "source": [
    "## Air Quality Data Set"
   ]
  },
  {
   "cell_type": "markdown",
   "metadata": {},
   "source": [
    "Информация о наборе данных:\n",
    "Набор данных содержит 9358 экземпляров усредненных по часам измерений набора из 5 химических датчиков оксида металла, встроенных в химический мультисенсор качества воздуха. Устройство было расположено на поле в значительно\n",
    "загрязненном районе, на уровне дороги, в итальянском городе. Данные были записаны в период с марта 2004 года по февраль 2005 года (одинт год), что представляет собой самые длинные в свободном доступе записи измерений химических датчиков качества воздуха, установленных на местах. \n",
    "Среднечасовые концентрации CO, неметановых углеводородов, бензола, всех оксидов азота (NOx) и диоксид азота (NO2) и были предоставлены совместно расположенным эталонным сертифицированным анализатором.\n",
    "Доказательства перекрестной чувствительности, а также дрейфы концепции и датчиков присутствуют, как описано в De Vito et al.,\n",
    "Sens. И Act. B, Vol. 129,2,2008 (требуется цитирование), в конечном итоге влияющие на возможности оценки концентрации датчиков. Пропущенные значения помечаются значением -200.\n",
    "Этот набор данных может использоваться исключительно для исследовательских целей. Коммерческие цели полностью исключены."
   ]
  },
  {
   "cell_type": "markdown",
   "metadata": {},
   "source": [
    "Входные переменные:\n",
    "\n",
    "0. Дата (ДД/ММ/ГГГГ)\n",
    "1. Время (ЧЧ.ММ.СС)\n",
    "2. Истинная почасовая усредненная концентрация CO в мг/м^3 (эталонный анализатор)\n",
    "3. PT 08.S1 (оксид олова) усредненный по часам отклик датчика (номинально CO))\n",
    "4. Истинная почасовая усредненная общая концентрация неметаллических углеводородов в мкг/м^3 (эталонный анализатор)\n",
    "5. Истинная почасовая усредненная концентрация бензола в мкг/м^3 (эталонный анализатор)\n",
    "6. PT08.S2 (титан) усредненный по часам отклик датчика (номинально NMHC))\n",
    "7. Истинная почасовая усредненная концентрация NOx в миллиардных долях (эталонный анализатор)\n",
    "8. PT08.S3 (оксид вольфрама) усредненный по часам отклик датчика (номинально NOx))\n",
    "9. Истинная почасовая усредненная концентрация NO2 в мкг/м^3 (эталонный анализатор)\n",
    "10. PT 08.S4 (оксид вольфрама) усредненный по часам отклик датчика (номинально NO2)\n",
    "11. PT08.S5 (оксид индия) усредненный по часам отклик датчика (номинально O3))\n",
    "12. Температура в ° C\n",
    "13. Относительная влажность (%)\n",
    "14. Абсолютная влажность (AH)"
   ]
  },
  {
   "cell_type": "markdown",
   "metadata": {},
   "source": [
    "Лабораторная работа № 3 – Регрессионный анализ данных\n",
    "Цель лабораторной работы – получение навыков работы с методами регрессии\n",
    "1.    Изучить набор данных. Создать описание набора данных на русском языке. Описать признаки, используемые в наборе данных (включить полученные описания в отчёт).\n",
    "2.    Удалите дубликаты строк в наборе данных; приведите размер набора данных до и после данной операции;\n",
    "3.    Выполните масштабирование количественных признаков; Постройте диаграммы BoxPlot для признаков до и после масштабирования. Выберите способ масштабирования (например, нормализацию или стандартизацию);\n",
    "4.    Выполните замену категориальных признаков; выберите и обоснуйте способ замены;\n",
    "5.    Оцените корреляцию между признаков и удалите те признаки, которые коррелируют с наибольшим числом других;\n",
    "6.    Заполните пропущенные значения в данных;\n",
    "7.    Решите поставленную задачу регрессии в соответствии с заданием. При подборе параметров метода принятия решения (метода регрессии) используйте перекрёстную проверку (изучите возможные для изменения параметры метода регрессии).  Вычислите точность решения задачи, вычислив разницу между реальным значением и предсказанным. Вычислите коэффициент корреляции (Пирсона, Спирмена) между реальным значением и предсказанным с учётом p-value. "
   ]
  },
  {
   "cell_type": "code",
   "execution_count": 2,
   "metadata": {},
   "outputs": [],
   "source": [
    "df_air = pd.read_csv (\"AirQualityUCI.csv\", sep=';')"
   ]
  },
  {
   "cell_type": "code",
   "execution_count": 3,
   "metadata": {
    "scrolled": false
   },
   "outputs": [
    {
     "data": {
      "text/html": [
       "<div>\n",
       "<style scoped>\n",
       "    .dataframe tbody tr th:only-of-type {\n",
       "        vertical-align: middle;\n",
       "    }\n",
       "\n",
       "    .dataframe tbody tr th {\n",
       "        vertical-align: top;\n",
       "    }\n",
       "\n",
       "    .dataframe thead th {\n",
       "        text-align: right;\n",
       "    }\n",
       "</style>\n",
       "<table border=\"1\" class=\"dataframe\">\n",
       "  <thead>\n",
       "    <tr style=\"text-align: right;\">\n",
       "      <th></th>\n",
       "      <th>Date</th>\n",
       "      <th>Time</th>\n",
       "      <th>CO(GT)</th>\n",
       "      <th>PT08.S1(CO)</th>\n",
       "      <th>NMHC(GT)</th>\n",
       "      <th>C6H6(GT)</th>\n",
       "      <th>PT08.S2(NMHC)</th>\n",
       "      <th>NOx(GT)</th>\n",
       "      <th>PT08.S3(NOx)</th>\n",
       "      <th>NO2(GT)</th>\n",
       "      <th>PT08.S4(NO2)</th>\n",
       "      <th>PT08.S5(O3)</th>\n",
       "      <th>T</th>\n",
       "      <th>RH</th>\n",
       "      <th>AH</th>\n",
       "      <th>Unnamed: 15</th>\n",
       "      <th>Unnamed: 16</th>\n",
       "    </tr>\n",
       "  </thead>\n",
       "  <tbody>\n",
       "    <tr>\n",
       "      <th>0</th>\n",
       "      <td>10/03/2004</td>\n",
       "      <td>18.00.00</td>\n",
       "      <td>2,6</td>\n",
       "      <td>1360.0</td>\n",
       "      <td>150.0</td>\n",
       "      <td>11,9</td>\n",
       "      <td>1046.0</td>\n",
       "      <td>166.0</td>\n",
       "      <td>1056.0</td>\n",
       "      <td>113.0</td>\n",
       "      <td>1692.0</td>\n",
       "      <td>1268.0</td>\n",
       "      <td>13,6</td>\n",
       "      <td>48,9</td>\n",
       "      <td>0,7578</td>\n",
       "      <td>NaN</td>\n",
       "      <td>NaN</td>\n",
       "    </tr>\n",
       "    <tr>\n",
       "      <th>1</th>\n",
       "      <td>10/03/2004</td>\n",
       "      <td>19.00.00</td>\n",
       "      <td>2</td>\n",
       "      <td>1292.0</td>\n",
       "      <td>112.0</td>\n",
       "      <td>9,4</td>\n",
       "      <td>955.0</td>\n",
       "      <td>103.0</td>\n",
       "      <td>1174.0</td>\n",
       "      <td>92.0</td>\n",
       "      <td>1559.0</td>\n",
       "      <td>972.0</td>\n",
       "      <td>13,3</td>\n",
       "      <td>47,7</td>\n",
       "      <td>0,7255</td>\n",
       "      <td>NaN</td>\n",
       "      <td>NaN</td>\n",
       "    </tr>\n",
       "    <tr>\n",
       "      <th>2</th>\n",
       "      <td>10/03/2004</td>\n",
       "      <td>20.00.00</td>\n",
       "      <td>2,2</td>\n",
       "      <td>1402.0</td>\n",
       "      <td>88.0</td>\n",
       "      <td>9,0</td>\n",
       "      <td>939.0</td>\n",
       "      <td>131.0</td>\n",
       "      <td>1140.0</td>\n",
       "      <td>114.0</td>\n",
       "      <td>1555.0</td>\n",
       "      <td>1074.0</td>\n",
       "      <td>11,9</td>\n",
       "      <td>54,0</td>\n",
       "      <td>0,7502</td>\n",
       "      <td>NaN</td>\n",
       "      <td>NaN</td>\n",
       "    </tr>\n",
       "    <tr>\n",
       "      <th>3</th>\n",
       "      <td>10/03/2004</td>\n",
       "      <td>21.00.00</td>\n",
       "      <td>2,2</td>\n",
       "      <td>1376.0</td>\n",
       "      <td>80.0</td>\n",
       "      <td>9,2</td>\n",
       "      <td>948.0</td>\n",
       "      <td>172.0</td>\n",
       "      <td>1092.0</td>\n",
       "      <td>122.0</td>\n",
       "      <td>1584.0</td>\n",
       "      <td>1203.0</td>\n",
       "      <td>11,0</td>\n",
       "      <td>60,0</td>\n",
       "      <td>0,7867</td>\n",
       "      <td>NaN</td>\n",
       "      <td>NaN</td>\n",
       "    </tr>\n",
       "    <tr>\n",
       "      <th>4</th>\n",
       "      <td>10/03/2004</td>\n",
       "      <td>22.00.00</td>\n",
       "      <td>1,6</td>\n",
       "      <td>1272.0</td>\n",
       "      <td>51.0</td>\n",
       "      <td>6,5</td>\n",
       "      <td>836.0</td>\n",
       "      <td>131.0</td>\n",
       "      <td>1205.0</td>\n",
       "      <td>116.0</td>\n",
       "      <td>1490.0</td>\n",
       "      <td>1110.0</td>\n",
       "      <td>11,2</td>\n",
       "      <td>59,6</td>\n",
       "      <td>0,7888</td>\n",
       "      <td>NaN</td>\n",
       "      <td>NaN</td>\n",
       "    </tr>\n",
       "    <tr>\n",
       "      <th>...</th>\n",
       "      <td>...</td>\n",
       "      <td>...</td>\n",
       "      <td>...</td>\n",
       "      <td>...</td>\n",
       "      <td>...</td>\n",
       "      <td>...</td>\n",
       "      <td>...</td>\n",
       "      <td>...</td>\n",
       "      <td>...</td>\n",
       "      <td>...</td>\n",
       "      <td>...</td>\n",
       "      <td>...</td>\n",
       "      <td>...</td>\n",
       "      <td>...</td>\n",
       "      <td>...</td>\n",
       "      <td>...</td>\n",
       "      <td>...</td>\n",
       "    </tr>\n",
       "    <tr>\n",
       "      <th>9466</th>\n",
       "      <td>NaN</td>\n",
       "      <td>NaN</td>\n",
       "      <td>NaN</td>\n",
       "      <td>NaN</td>\n",
       "      <td>NaN</td>\n",
       "      <td>NaN</td>\n",
       "      <td>NaN</td>\n",
       "      <td>NaN</td>\n",
       "      <td>NaN</td>\n",
       "      <td>NaN</td>\n",
       "      <td>NaN</td>\n",
       "      <td>NaN</td>\n",
       "      <td>NaN</td>\n",
       "      <td>NaN</td>\n",
       "      <td>NaN</td>\n",
       "      <td>NaN</td>\n",
       "      <td>NaN</td>\n",
       "    </tr>\n",
       "    <tr>\n",
       "      <th>9467</th>\n",
       "      <td>NaN</td>\n",
       "      <td>NaN</td>\n",
       "      <td>NaN</td>\n",
       "      <td>NaN</td>\n",
       "      <td>NaN</td>\n",
       "      <td>NaN</td>\n",
       "      <td>NaN</td>\n",
       "      <td>NaN</td>\n",
       "      <td>NaN</td>\n",
       "      <td>NaN</td>\n",
       "      <td>NaN</td>\n",
       "      <td>NaN</td>\n",
       "      <td>NaN</td>\n",
       "      <td>NaN</td>\n",
       "      <td>NaN</td>\n",
       "      <td>NaN</td>\n",
       "      <td>NaN</td>\n",
       "    </tr>\n",
       "    <tr>\n",
       "      <th>9468</th>\n",
       "      <td>NaN</td>\n",
       "      <td>NaN</td>\n",
       "      <td>NaN</td>\n",
       "      <td>NaN</td>\n",
       "      <td>NaN</td>\n",
       "      <td>NaN</td>\n",
       "      <td>NaN</td>\n",
       "      <td>NaN</td>\n",
       "      <td>NaN</td>\n",
       "      <td>NaN</td>\n",
       "      <td>NaN</td>\n",
       "      <td>NaN</td>\n",
       "      <td>NaN</td>\n",
       "      <td>NaN</td>\n",
       "      <td>NaN</td>\n",
       "      <td>NaN</td>\n",
       "      <td>NaN</td>\n",
       "    </tr>\n",
       "    <tr>\n",
       "      <th>9469</th>\n",
       "      <td>NaN</td>\n",
       "      <td>NaN</td>\n",
       "      <td>NaN</td>\n",
       "      <td>NaN</td>\n",
       "      <td>NaN</td>\n",
       "      <td>NaN</td>\n",
       "      <td>NaN</td>\n",
       "      <td>NaN</td>\n",
       "      <td>NaN</td>\n",
       "      <td>NaN</td>\n",
       "      <td>NaN</td>\n",
       "      <td>NaN</td>\n",
       "      <td>NaN</td>\n",
       "      <td>NaN</td>\n",
       "      <td>NaN</td>\n",
       "      <td>NaN</td>\n",
       "      <td>NaN</td>\n",
       "    </tr>\n",
       "    <tr>\n",
       "      <th>9470</th>\n",
       "      <td>NaN</td>\n",
       "      <td>NaN</td>\n",
       "      <td>NaN</td>\n",
       "      <td>NaN</td>\n",
       "      <td>NaN</td>\n",
       "      <td>NaN</td>\n",
       "      <td>NaN</td>\n",
       "      <td>NaN</td>\n",
       "      <td>NaN</td>\n",
       "      <td>NaN</td>\n",
       "      <td>NaN</td>\n",
       "      <td>NaN</td>\n",
       "      <td>NaN</td>\n",
       "      <td>NaN</td>\n",
       "      <td>NaN</td>\n",
       "      <td>NaN</td>\n",
       "      <td>NaN</td>\n",
       "    </tr>\n",
       "  </tbody>\n",
       "</table>\n",
       "<p>9471 rows × 17 columns</p>\n",
       "</div>"
      ],
      "text/plain": [
       "            Date      Time CO(GT)  PT08.S1(CO)  NMHC(GT) C6H6(GT)  \\\n",
       "0     10/03/2004  18.00.00    2,6       1360.0     150.0     11,9   \n",
       "1     10/03/2004  19.00.00      2       1292.0     112.0      9,4   \n",
       "2     10/03/2004  20.00.00    2,2       1402.0      88.0      9,0   \n",
       "3     10/03/2004  21.00.00    2,2       1376.0      80.0      9,2   \n",
       "4     10/03/2004  22.00.00    1,6       1272.0      51.0      6,5   \n",
       "...          ...       ...    ...          ...       ...      ...   \n",
       "9466         NaN       NaN    NaN          NaN       NaN      NaN   \n",
       "9467         NaN       NaN    NaN          NaN       NaN      NaN   \n",
       "9468         NaN       NaN    NaN          NaN       NaN      NaN   \n",
       "9469         NaN       NaN    NaN          NaN       NaN      NaN   \n",
       "9470         NaN       NaN    NaN          NaN       NaN      NaN   \n",
       "\n",
       "      PT08.S2(NMHC)  NOx(GT)  PT08.S3(NOx)  NO2(GT)  PT08.S4(NO2)  \\\n",
       "0            1046.0    166.0        1056.0    113.0        1692.0   \n",
       "1             955.0    103.0        1174.0     92.0        1559.0   \n",
       "2             939.0    131.0        1140.0    114.0        1555.0   \n",
       "3             948.0    172.0        1092.0    122.0        1584.0   \n",
       "4             836.0    131.0        1205.0    116.0        1490.0   \n",
       "...             ...      ...           ...      ...           ...   \n",
       "9466            NaN      NaN           NaN      NaN           NaN   \n",
       "9467            NaN      NaN           NaN      NaN           NaN   \n",
       "9468            NaN      NaN           NaN      NaN           NaN   \n",
       "9469            NaN      NaN           NaN      NaN           NaN   \n",
       "9470            NaN      NaN           NaN      NaN           NaN   \n",
       "\n",
       "      PT08.S5(O3)     T    RH      AH  Unnamed: 15  Unnamed: 16  \n",
       "0          1268.0  13,6  48,9  0,7578          NaN          NaN  \n",
       "1           972.0  13,3  47,7  0,7255          NaN          NaN  \n",
       "2          1074.0  11,9  54,0  0,7502          NaN          NaN  \n",
       "3          1203.0  11,0  60,0  0,7867          NaN          NaN  \n",
       "4          1110.0  11,2  59,6  0,7888          NaN          NaN  \n",
       "...           ...   ...   ...     ...          ...          ...  \n",
       "9466          NaN   NaN   NaN     NaN          NaN          NaN  \n",
       "9467          NaN   NaN   NaN     NaN          NaN          NaN  \n",
       "9468          NaN   NaN   NaN     NaN          NaN          NaN  \n",
       "9469          NaN   NaN   NaN     NaN          NaN          NaN  \n",
       "9470          NaN   NaN   NaN     NaN          NaN          NaN  \n",
       "\n",
       "[9471 rows x 17 columns]"
      ]
     },
     "execution_count": 3,
     "metadata": {},
     "output_type": "execute_result"
    }
   ],
   "source": [
    "df_air"
   ]
  },
  {
   "cell_type": "markdown",
   "metadata": {},
   "source": [
    "Удалим лишние столбцы и строки. Выполним преобразование данных перед работой"
   ]
  },
  {
   "cell_type": "code",
   "execution_count": 4,
   "metadata": {},
   "outputs": [],
   "source": [
    "to_drop = [\"Unnamed: 15\", \"Unnamed: 16\"]"
   ]
  },
  {
   "cell_type": "code",
   "execution_count": 5,
   "metadata": {},
   "outputs": [],
   "source": [
    "df_air.drop(to_drop , axis = 1, inplace = True)\n",
    "df_air.dropna(inplace = True)"
   ]
  },
  {
   "cell_type": "code",
   "execution_count": 6,
   "metadata": {
    "scrolled": false
   },
   "outputs": [
    {
     "data": {
      "text/html": [
       "<div>\n",
       "<style scoped>\n",
       "    .dataframe tbody tr th:only-of-type {\n",
       "        vertical-align: middle;\n",
       "    }\n",
       "\n",
       "    .dataframe tbody tr th {\n",
       "        vertical-align: top;\n",
       "    }\n",
       "\n",
       "    .dataframe thead th {\n",
       "        text-align: right;\n",
       "    }\n",
       "</style>\n",
       "<table border=\"1\" class=\"dataframe\">\n",
       "  <thead>\n",
       "    <tr style=\"text-align: right;\">\n",
       "      <th></th>\n",
       "      <th>Date</th>\n",
       "      <th>Time</th>\n",
       "      <th>CO(GT)</th>\n",
       "      <th>PT08.S1(CO)</th>\n",
       "      <th>NMHC(GT)</th>\n",
       "      <th>C6H6(GT)</th>\n",
       "      <th>PT08.S2(NMHC)</th>\n",
       "      <th>NOx(GT)</th>\n",
       "      <th>PT08.S3(NOx)</th>\n",
       "      <th>NO2(GT)</th>\n",
       "      <th>PT08.S4(NO2)</th>\n",
       "      <th>PT08.S5(O3)</th>\n",
       "      <th>T</th>\n",
       "      <th>RH</th>\n",
       "      <th>AH</th>\n",
       "    </tr>\n",
       "  </thead>\n",
       "  <tbody>\n",
       "    <tr>\n",
       "      <th>0</th>\n",
       "      <td>10/03/2004</td>\n",
       "      <td>18.00.00</td>\n",
       "      <td>2,6</td>\n",
       "      <td>1360.0</td>\n",
       "      <td>150.0</td>\n",
       "      <td>11,9</td>\n",
       "      <td>1046.0</td>\n",
       "      <td>166.0</td>\n",
       "      <td>1056.0</td>\n",
       "      <td>113.0</td>\n",
       "      <td>1692.0</td>\n",
       "      <td>1268.0</td>\n",
       "      <td>13,6</td>\n",
       "      <td>48,9</td>\n",
       "      <td>0,7578</td>\n",
       "    </tr>\n",
       "    <tr>\n",
       "      <th>1</th>\n",
       "      <td>10/03/2004</td>\n",
       "      <td>19.00.00</td>\n",
       "      <td>2</td>\n",
       "      <td>1292.0</td>\n",
       "      <td>112.0</td>\n",
       "      <td>9,4</td>\n",
       "      <td>955.0</td>\n",
       "      <td>103.0</td>\n",
       "      <td>1174.0</td>\n",
       "      <td>92.0</td>\n",
       "      <td>1559.0</td>\n",
       "      <td>972.0</td>\n",
       "      <td>13,3</td>\n",
       "      <td>47,7</td>\n",
       "      <td>0,7255</td>\n",
       "    </tr>\n",
       "    <tr>\n",
       "      <th>2</th>\n",
       "      <td>10/03/2004</td>\n",
       "      <td>20.00.00</td>\n",
       "      <td>2,2</td>\n",
       "      <td>1402.0</td>\n",
       "      <td>88.0</td>\n",
       "      <td>9,0</td>\n",
       "      <td>939.0</td>\n",
       "      <td>131.0</td>\n",
       "      <td>1140.0</td>\n",
       "      <td>114.0</td>\n",
       "      <td>1555.0</td>\n",
       "      <td>1074.0</td>\n",
       "      <td>11,9</td>\n",
       "      <td>54,0</td>\n",
       "      <td>0,7502</td>\n",
       "    </tr>\n",
       "    <tr>\n",
       "      <th>3</th>\n",
       "      <td>10/03/2004</td>\n",
       "      <td>21.00.00</td>\n",
       "      <td>2,2</td>\n",
       "      <td>1376.0</td>\n",
       "      <td>80.0</td>\n",
       "      <td>9,2</td>\n",
       "      <td>948.0</td>\n",
       "      <td>172.0</td>\n",
       "      <td>1092.0</td>\n",
       "      <td>122.0</td>\n",
       "      <td>1584.0</td>\n",
       "      <td>1203.0</td>\n",
       "      <td>11,0</td>\n",
       "      <td>60,0</td>\n",
       "      <td>0,7867</td>\n",
       "    </tr>\n",
       "    <tr>\n",
       "      <th>4</th>\n",
       "      <td>10/03/2004</td>\n",
       "      <td>22.00.00</td>\n",
       "      <td>1,6</td>\n",
       "      <td>1272.0</td>\n",
       "      <td>51.0</td>\n",
       "      <td>6,5</td>\n",
       "      <td>836.0</td>\n",
       "      <td>131.0</td>\n",
       "      <td>1205.0</td>\n",
       "      <td>116.0</td>\n",
       "      <td>1490.0</td>\n",
       "      <td>1110.0</td>\n",
       "      <td>11,2</td>\n",
       "      <td>59,6</td>\n",
       "      <td>0,7888</td>\n",
       "    </tr>\n",
       "    <tr>\n",
       "      <th>...</th>\n",
       "      <td>...</td>\n",
       "      <td>...</td>\n",
       "      <td>...</td>\n",
       "      <td>...</td>\n",
       "      <td>...</td>\n",
       "      <td>...</td>\n",
       "      <td>...</td>\n",
       "      <td>...</td>\n",
       "      <td>...</td>\n",
       "      <td>...</td>\n",
       "      <td>...</td>\n",
       "      <td>...</td>\n",
       "      <td>...</td>\n",
       "      <td>...</td>\n",
       "      <td>...</td>\n",
       "    </tr>\n",
       "    <tr>\n",
       "      <th>9352</th>\n",
       "      <td>04/04/2005</td>\n",
       "      <td>10.00.00</td>\n",
       "      <td>3,1</td>\n",
       "      <td>1314.0</td>\n",
       "      <td>-200.0</td>\n",
       "      <td>13,5</td>\n",
       "      <td>1101.0</td>\n",
       "      <td>472.0</td>\n",
       "      <td>539.0</td>\n",
       "      <td>190.0</td>\n",
       "      <td>1374.0</td>\n",
       "      <td>1729.0</td>\n",
       "      <td>21,9</td>\n",
       "      <td>29,3</td>\n",
       "      <td>0,7568</td>\n",
       "    </tr>\n",
       "    <tr>\n",
       "      <th>9353</th>\n",
       "      <td>04/04/2005</td>\n",
       "      <td>11.00.00</td>\n",
       "      <td>2,4</td>\n",
       "      <td>1163.0</td>\n",
       "      <td>-200.0</td>\n",
       "      <td>11,4</td>\n",
       "      <td>1027.0</td>\n",
       "      <td>353.0</td>\n",
       "      <td>604.0</td>\n",
       "      <td>179.0</td>\n",
       "      <td>1264.0</td>\n",
       "      <td>1269.0</td>\n",
       "      <td>24,3</td>\n",
       "      <td>23,7</td>\n",
       "      <td>0,7119</td>\n",
       "    </tr>\n",
       "    <tr>\n",
       "      <th>9354</th>\n",
       "      <td>04/04/2005</td>\n",
       "      <td>12.00.00</td>\n",
       "      <td>2,4</td>\n",
       "      <td>1142.0</td>\n",
       "      <td>-200.0</td>\n",
       "      <td>12,4</td>\n",
       "      <td>1063.0</td>\n",
       "      <td>293.0</td>\n",
       "      <td>603.0</td>\n",
       "      <td>175.0</td>\n",
       "      <td>1241.0</td>\n",
       "      <td>1092.0</td>\n",
       "      <td>26,9</td>\n",
       "      <td>18,3</td>\n",
       "      <td>0,6406</td>\n",
       "    </tr>\n",
       "    <tr>\n",
       "      <th>9355</th>\n",
       "      <td>04/04/2005</td>\n",
       "      <td>13.00.00</td>\n",
       "      <td>2,1</td>\n",
       "      <td>1003.0</td>\n",
       "      <td>-200.0</td>\n",
       "      <td>9,5</td>\n",
       "      <td>961.0</td>\n",
       "      <td>235.0</td>\n",
       "      <td>702.0</td>\n",
       "      <td>156.0</td>\n",
       "      <td>1041.0</td>\n",
       "      <td>770.0</td>\n",
       "      <td>28,3</td>\n",
       "      <td>13,5</td>\n",
       "      <td>0,5139</td>\n",
       "    </tr>\n",
       "    <tr>\n",
       "      <th>9356</th>\n",
       "      <td>04/04/2005</td>\n",
       "      <td>14.00.00</td>\n",
       "      <td>2,2</td>\n",
       "      <td>1071.0</td>\n",
       "      <td>-200.0</td>\n",
       "      <td>11,9</td>\n",
       "      <td>1047.0</td>\n",
       "      <td>265.0</td>\n",
       "      <td>654.0</td>\n",
       "      <td>168.0</td>\n",
       "      <td>1129.0</td>\n",
       "      <td>816.0</td>\n",
       "      <td>28,5</td>\n",
       "      <td>13,1</td>\n",
       "      <td>0,5028</td>\n",
       "    </tr>\n",
       "  </tbody>\n",
       "</table>\n",
       "<p>9357 rows × 15 columns</p>\n",
       "</div>"
      ],
      "text/plain": [
       "            Date      Time CO(GT)  PT08.S1(CO)  NMHC(GT) C6H6(GT)  \\\n",
       "0     10/03/2004  18.00.00    2,6       1360.0     150.0     11,9   \n",
       "1     10/03/2004  19.00.00      2       1292.0     112.0      9,4   \n",
       "2     10/03/2004  20.00.00    2,2       1402.0      88.0      9,0   \n",
       "3     10/03/2004  21.00.00    2,2       1376.0      80.0      9,2   \n",
       "4     10/03/2004  22.00.00    1,6       1272.0      51.0      6,5   \n",
       "...          ...       ...    ...          ...       ...      ...   \n",
       "9352  04/04/2005  10.00.00    3,1       1314.0    -200.0     13,5   \n",
       "9353  04/04/2005  11.00.00    2,4       1163.0    -200.0     11,4   \n",
       "9354  04/04/2005  12.00.00    2,4       1142.0    -200.0     12,4   \n",
       "9355  04/04/2005  13.00.00    2,1       1003.0    -200.0      9,5   \n",
       "9356  04/04/2005  14.00.00    2,2       1071.0    -200.0     11,9   \n",
       "\n",
       "      PT08.S2(NMHC)  NOx(GT)  PT08.S3(NOx)  NO2(GT)  PT08.S4(NO2)  \\\n",
       "0            1046.0    166.0        1056.0    113.0        1692.0   \n",
       "1             955.0    103.0        1174.0     92.0        1559.0   \n",
       "2             939.0    131.0        1140.0    114.0        1555.0   \n",
       "3             948.0    172.0        1092.0    122.0        1584.0   \n",
       "4             836.0    131.0        1205.0    116.0        1490.0   \n",
       "...             ...      ...           ...      ...           ...   \n",
       "9352         1101.0    472.0         539.0    190.0        1374.0   \n",
       "9353         1027.0    353.0         604.0    179.0        1264.0   \n",
       "9354         1063.0    293.0         603.0    175.0        1241.0   \n",
       "9355          961.0    235.0         702.0    156.0        1041.0   \n",
       "9356         1047.0    265.0         654.0    168.0        1129.0   \n",
       "\n",
       "      PT08.S5(O3)     T    RH      AH  \n",
       "0          1268.0  13,6  48,9  0,7578  \n",
       "1           972.0  13,3  47,7  0,7255  \n",
       "2          1074.0  11,9  54,0  0,7502  \n",
       "3          1203.0  11,0  60,0  0,7867  \n",
       "4          1110.0  11,2  59,6  0,7888  \n",
       "...           ...   ...   ...     ...  \n",
       "9352       1729.0  21,9  29,3  0,7568  \n",
       "9353       1269.0  24,3  23,7  0,7119  \n",
       "9354       1092.0  26,9  18,3  0,6406  \n",
       "9355        770.0  28,3  13,5  0,5139  \n",
       "9356        816.0  28,5  13,1  0,5028  \n",
       "\n",
       "[9357 rows x 15 columns]"
      ]
     },
     "execution_count": 6,
     "metadata": {},
     "output_type": "execute_result"
    }
   ],
   "source": [
    "df_air"
   ]
  },
  {
   "cell_type": "code",
   "execution_count": 7,
   "metadata": {},
   "outputs": [],
   "source": [
    "df_air.drop(['NMHC(GT)'], axis=1, inplace=True)"
   ]
  },
  {
   "cell_type": "code",
   "execution_count": 8,
   "metadata": {},
   "outputs": [],
   "source": [
    "def repl(x: str, _from=',', _to='.'):\n",
    "    return x.replace(_from, _to)"
   ]
  },
  {
   "cell_type": "code",
   "execution_count": 9,
   "metadata": {
    "scrolled": false
   },
   "outputs": [],
   "source": [
    "df_air['CO(GT)']   = pd.to_numeric(df_air['CO(GT)'].apply(repl))\n",
    "df_air['C6H6(GT)'] = pd.to_numeric(df_air['C6H6(GT)'].apply(repl))\n",
    "df_air['T']        = pd.to_numeric(df_air['T'].apply(repl))\n",
    "df_air['RH']       = pd.to_numeric(df_air['RH'].apply(repl))\n",
    "df_air['AH']       = pd.to_numeric(df_air['AH'].apply(repl))"
   ]
  },
  {
   "cell_type": "code",
   "execution_count": 10,
   "metadata": {},
   "outputs": [],
   "source": [
    "def to_hours(x: str):\n",
    "    return int(x.split('.')[0])"
   ]
  },
  {
   "cell_type": "code",
   "execution_count": 11,
   "metadata": {},
   "outputs": [],
   "source": [
    "df_air[\"Date\"] = pd.to_datetime(df_air[\"Date\"])\n",
    "df_air[\"Time\"] = df_air[\"Time\"].apply(to_hours)"
   ]
  },
  {
   "cell_type": "code",
   "execution_count": 12,
   "metadata": {
    "scrolled": true
   },
   "outputs": [
    {
     "name": "stdout",
     "output_type": "stream",
     "text": [
      "<class 'pandas.core.frame.DataFrame'>\n",
      "Int64Index: 9357 entries, 0 to 9356\n",
      "Data columns (total 14 columns):\n",
      " #   Column         Non-Null Count  Dtype         \n",
      "---  ------         --------------  -----         \n",
      " 0   Date           9357 non-null   datetime64[ns]\n",
      " 1   Time           9357 non-null   int64         \n",
      " 2   CO(GT)         9357 non-null   float64       \n",
      " 3   PT08.S1(CO)    9357 non-null   float64       \n",
      " 4   C6H6(GT)       9357 non-null   float64       \n",
      " 5   PT08.S2(NMHC)  9357 non-null   float64       \n",
      " 6   NOx(GT)        9357 non-null   float64       \n",
      " 7   PT08.S3(NOx)   9357 non-null   float64       \n",
      " 8   NO2(GT)        9357 non-null   float64       \n",
      " 9   PT08.S4(NO2)   9357 non-null   float64       \n",
      " 10  PT08.S5(O3)    9357 non-null   float64       \n",
      " 11  T              9357 non-null   float64       \n",
      " 12  RH             9357 non-null   float64       \n",
      " 13  AH             9357 non-null   float64       \n",
      "dtypes: datetime64[ns](1), float64(12), int64(1)\n",
      "memory usage: 1.1 MB\n"
     ]
    }
   ],
   "source": [
    "df_air.info()"
   ]
  },
  {
   "cell_type": "markdown",
   "metadata": {},
   "source": [
    "#### Удалите дубликаты строк в наборе данных; приведите размер набора данных до и после данной операции."
   ]
  },
  {
   "cell_type": "code",
   "execution_count": 13,
   "metadata": {
    "scrolled": true
   },
   "outputs": [
    {
     "name": "stdout",
     "output_type": "stream",
     "text": [
      "Количество записей до удаления дубликатов: 9357\n"
     ]
    }
   ],
   "source": [
    "print(\"Количество записей до удаления дубликатов:\", df_air.shape[0])"
   ]
  },
  {
   "cell_type": "code",
   "execution_count": 14,
   "metadata": {},
   "outputs": [],
   "source": [
    "df_air.drop_duplicates(keep ='first', inplace =True)  "
   ]
  },
  {
   "cell_type": "code",
   "execution_count": 15,
   "metadata": {
    "scrolled": true
   },
   "outputs": [
    {
     "name": "stdout",
     "output_type": "stream",
     "text": [
      "Количество записей после удаления дубликатов: 9357\n"
     ]
    }
   ],
   "source": [
    "print(\"Количество записей после удаления дубликатов:\", df_air.shape[0])"
   ]
  },
  {
   "cell_type": "markdown",
   "metadata": {},
   "source": [
    "Дубликаты отсутствуют"
   ]
  },
  {
   "cell_type": "code",
   "execution_count": 16,
   "metadata": {
    "scrolled": true
   },
   "outputs": [
    {
     "data": {
      "text/plain": [
       "Date                0\n",
       "Time                0\n",
       "CO(GT)           1683\n",
       "PT08.S1(CO)       366\n",
       "C6H6(GT)          366\n",
       "PT08.S2(NMHC)     366\n",
       "NOx(GT)          1639\n",
       "PT08.S3(NOx)      366\n",
       "NO2(GT)          1642\n",
       "PT08.S4(NO2)      366\n",
       "PT08.S5(O3)       366\n",
       "T                 366\n",
       "RH                366\n",
       "AH                366\n",
       "dtype: int64"
      ]
     },
     "execution_count": 16,
     "metadata": {},
     "output_type": "execute_result"
    }
   ],
   "source": [
    "# -200 является \"NaN\"\n",
    "(df_air[df_air.columns] == -200).sum()"
   ]
  },
  {
   "cell_type": "code",
   "execution_count": 17,
   "metadata": {
    "scrolled": true
   },
   "outputs": [
    {
     "data": {
      "text/plain": [
       "Date             0\n",
       "Time             0\n",
       "CO(GT)           0\n",
       "PT08.S1(CO)      0\n",
       "C6H6(GT)         0\n",
       "PT08.S2(NMHC)    0\n",
       "NOx(GT)          0\n",
       "PT08.S3(NOx)     0\n",
       "NO2(GT)          0\n",
       "PT08.S4(NO2)     0\n",
       "PT08.S5(O3)      0\n",
       "T                0\n",
       "RH               0\n",
       "AH               0\n",
       "dtype: int64"
      ]
     },
     "execution_count": 17,
     "metadata": {},
     "output_type": "execute_result"
    }
   ],
   "source": [
    "# ['CO(GT)', 'NOx(GT)', 'NO2(GT)'] - очень много NaN\n",
    "df_air = df_air.loc[df_air['CO(GT)'] != -200]\n",
    "df_air = df_air.loc[df_air['NO2(GT)'] != -200]\n",
    "df_air = df_air.loc[df_air['PT08.S1(CO)'] != -200]\n",
    "(df_air[df_air.columns] == -200).sum()"
   ]
  },
  {
   "cell_type": "code",
   "execution_count": 18,
   "metadata": {},
   "outputs": [
    {
     "data": {
      "text/html": [
       "<div>\n",
       "<style scoped>\n",
       "    .dataframe tbody tr th:only-of-type {\n",
       "        vertical-align: middle;\n",
       "    }\n",
       "\n",
       "    .dataframe tbody tr th {\n",
       "        vertical-align: top;\n",
       "    }\n",
       "\n",
       "    .dataframe thead th {\n",
       "        text-align: right;\n",
       "    }\n",
       "</style>\n",
       "<table border=\"1\" class=\"dataframe\">\n",
       "  <thead>\n",
       "    <tr style=\"text-align: right;\">\n",
       "      <th></th>\n",
       "      <th>index</th>\n",
       "      <th>Date</th>\n",
       "      <th>Time</th>\n",
       "      <th>CO(GT)</th>\n",
       "      <th>PT08.S1(CO)</th>\n",
       "      <th>C6H6(GT)</th>\n",
       "      <th>PT08.S2(NMHC)</th>\n",
       "      <th>NOx(GT)</th>\n",
       "      <th>PT08.S3(NOx)</th>\n",
       "      <th>NO2(GT)</th>\n",
       "      <th>PT08.S4(NO2)</th>\n",
       "      <th>PT08.S5(O3)</th>\n",
       "      <th>T</th>\n",
       "      <th>RH</th>\n",
       "      <th>AH</th>\n",
       "    </tr>\n",
       "  </thead>\n",
       "  <tbody>\n",
       "    <tr>\n",
       "      <th>0</th>\n",
       "      <td>0</td>\n",
       "      <td>2004-10-03</td>\n",
       "      <td>18</td>\n",
       "      <td>2.6</td>\n",
       "      <td>1360.0</td>\n",
       "      <td>11.9</td>\n",
       "      <td>1046.0</td>\n",
       "      <td>166.0</td>\n",
       "      <td>1056.0</td>\n",
       "      <td>113.0</td>\n",
       "      <td>1692.0</td>\n",
       "      <td>1268.0</td>\n",
       "      <td>13.6</td>\n",
       "      <td>48.9</td>\n",
       "      <td>0.7578</td>\n",
       "    </tr>\n",
       "    <tr>\n",
       "      <th>1</th>\n",
       "      <td>1</td>\n",
       "      <td>2004-10-03</td>\n",
       "      <td>19</td>\n",
       "      <td>2.0</td>\n",
       "      <td>1292.0</td>\n",
       "      <td>9.4</td>\n",
       "      <td>955.0</td>\n",
       "      <td>103.0</td>\n",
       "      <td>1174.0</td>\n",
       "      <td>92.0</td>\n",
       "      <td>1559.0</td>\n",
       "      <td>972.0</td>\n",
       "      <td>13.3</td>\n",
       "      <td>47.7</td>\n",
       "      <td>0.7255</td>\n",
       "    </tr>\n",
       "    <tr>\n",
       "      <th>2</th>\n",
       "      <td>2</td>\n",
       "      <td>2004-10-03</td>\n",
       "      <td>20</td>\n",
       "      <td>2.2</td>\n",
       "      <td>1402.0</td>\n",
       "      <td>9.0</td>\n",
       "      <td>939.0</td>\n",
       "      <td>131.0</td>\n",
       "      <td>1140.0</td>\n",
       "      <td>114.0</td>\n",
       "      <td>1555.0</td>\n",
       "      <td>1074.0</td>\n",
       "      <td>11.9</td>\n",
       "      <td>54.0</td>\n",
       "      <td>0.7502</td>\n",
       "    </tr>\n",
       "    <tr>\n",
       "      <th>3</th>\n",
       "      <td>3</td>\n",
       "      <td>2004-10-03</td>\n",
       "      <td>21</td>\n",
       "      <td>2.2</td>\n",
       "      <td>1376.0</td>\n",
       "      <td>9.2</td>\n",
       "      <td>948.0</td>\n",
       "      <td>172.0</td>\n",
       "      <td>1092.0</td>\n",
       "      <td>122.0</td>\n",
       "      <td>1584.0</td>\n",
       "      <td>1203.0</td>\n",
       "      <td>11.0</td>\n",
       "      <td>60.0</td>\n",
       "      <td>0.7867</td>\n",
       "    </tr>\n",
       "    <tr>\n",
       "      <th>4</th>\n",
       "      <td>4</td>\n",
       "      <td>2004-10-03</td>\n",
       "      <td>22</td>\n",
       "      <td>1.6</td>\n",
       "      <td>1272.0</td>\n",
       "      <td>6.5</td>\n",
       "      <td>836.0</td>\n",
       "      <td>131.0</td>\n",
       "      <td>1205.0</td>\n",
       "      <td>116.0</td>\n",
       "      <td>1490.0</td>\n",
       "      <td>1110.0</td>\n",
       "      <td>11.2</td>\n",
       "      <td>59.6</td>\n",
       "      <td>0.7888</td>\n",
       "    </tr>\n",
       "    <tr>\n",
       "      <th>...</th>\n",
       "      <td>...</td>\n",
       "      <td>...</td>\n",
       "      <td>...</td>\n",
       "      <td>...</td>\n",
       "      <td>...</td>\n",
       "      <td>...</td>\n",
       "      <td>...</td>\n",
       "      <td>...</td>\n",
       "      <td>...</td>\n",
       "      <td>...</td>\n",
       "      <td>...</td>\n",
       "      <td>...</td>\n",
       "      <td>...</td>\n",
       "      <td>...</td>\n",
       "      <td>...</td>\n",
       "    </tr>\n",
       "    <tr>\n",
       "      <th>6936</th>\n",
       "      <td>9352</td>\n",
       "      <td>2005-04-04</td>\n",
       "      <td>10</td>\n",
       "      <td>3.1</td>\n",
       "      <td>1314.0</td>\n",
       "      <td>13.5</td>\n",
       "      <td>1101.0</td>\n",
       "      <td>472.0</td>\n",
       "      <td>539.0</td>\n",
       "      <td>190.0</td>\n",
       "      <td>1374.0</td>\n",
       "      <td>1729.0</td>\n",
       "      <td>21.9</td>\n",
       "      <td>29.3</td>\n",
       "      <td>0.7568</td>\n",
       "    </tr>\n",
       "    <tr>\n",
       "      <th>6937</th>\n",
       "      <td>9353</td>\n",
       "      <td>2005-04-04</td>\n",
       "      <td>11</td>\n",
       "      <td>2.4</td>\n",
       "      <td>1163.0</td>\n",
       "      <td>11.4</td>\n",
       "      <td>1027.0</td>\n",
       "      <td>353.0</td>\n",
       "      <td>604.0</td>\n",
       "      <td>179.0</td>\n",
       "      <td>1264.0</td>\n",
       "      <td>1269.0</td>\n",
       "      <td>24.3</td>\n",
       "      <td>23.7</td>\n",
       "      <td>0.7119</td>\n",
       "    </tr>\n",
       "    <tr>\n",
       "      <th>6938</th>\n",
       "      <td>9354</td>\n",
       "      <td>2005-04-04</td>\n",
       "      <td>12</td>\n",
       "      <td>2.4</td>\n",
       "      <td>1142.0</td>\n",
       "      <td>12.4</td>\n",
       "      <td>1063.0</td>\n",
       "      <td>293.0</td>\n",
       "      <td>603.0</td>\n",
       "      <td>175.0</td>\n",
       "      <td>1241.0</td>\n",
       "      <td>1092.0</td>\n",
       "      <td>26.9</td>\n",
       "      <td>18.3</td>\n",
       "      <td>0.6406</td>\n",
       "    </tr>\n",
       "    <tr>\n",
       "      <th>6939</th>\n",
       "      <td>9355</td>\n",
       "      <td>2005-04-04</td>\n",
       "      <td>13</td>\n",
       "      <td>2.1</td>\n",
       "      <td>1003.0</td>\n",
       "      <td>9.5</td>\n",
       "      <td>961.0</td>\n",
       "      <td>235.0</td>\n",
       "      <td>702.0</td>\n",
       "      <td>156.0</td>\n",
       "      <td>1041.0</td>\n",
       "      <td>770.0</td>\n",
       "      <td>28.3</td>\n",
       "      <td>13.5</td>\n",
       "      <td>0.5139</td>\n",
       "    </tr>\n",
       "    <tr>\n",
       "      <th>6940</th>\n",
       "      <td>9356</td>\n",
       "      <td>2005-04-04</td>\n",
       "      <td>14</td>\n",
       "      <td>2.2</td>\n",
       "      <td>1071.0</td>\n",
       "      <td>11.9</td>\n",
       "      <td>1047.0</td>\n",
       "      <td>265.0</td>\n",
       "      <td>654.0</td>\n",
       "      <td>168.0</td>\n",
       "      <td>1129.0</td>\n",
       "      <td>816.0</td>\n",
       "      <td>28.5</td>\n",
       "      <td>13.1</td>\n",
       "      <td>0.5028</td>\n",
       "    </tr>\n",
       "  </tbody>\n",
       "</table>\n",
       "<p>6941 rows × 15 columns</p>\n",
       "</div>"
      ],
      "text/plain": [
       "      index       Date  Time  CO(GT)  PT08.S1(CO)  C6H6(GT)  PT08.S2(NMHC)  \\\n",
       "0         0 2004-10-03    18     2.6       1360.0      11.9         1046.0   \n",
       "1         1 2004-10-03    19     2.0       1292.0       9.4          955.0   \n",
       "2         2 2004-10-03    20     2.2       1402.0       9.0          939.0   \n",
       "3         3 2004-10-03    21     2.2       1376.0       9.2          948.0   \n",
       "4         4 2004-10-03    22     1.6       1272.0       6.5          836.0   \n",
       "...     ...        ...   ...     ...          ...       ...            ...   \n",
       "6936   9352 2005-04-04    10     3.1       1314.0      13.5         1101.0   \n",
       "6937   9353 2005-04-04    11     2.4       1163.0      11.4         1027.0   \n",
       "6938   9354 2005-04-04    12     2.4       1142.0      12.4         1063.0   \n",
       "6939   9355 2005-04-04    13     2.1       1003.0       9.5          961.0   \n",
       "6940   9356 2005-04-04    14     2.2       1071.0      11.9         1047.0   \n",
       "\n",
       "      NOx(GT)  PT08.S3(NOx)  NO2(GT)  PT08.S4(NO2)  PT08.S5(O3)     T    RH  \\\n",
       "0       166.0        1056.0    113.0        1692.0       1268.0  13.6  48.9   \n",
       "1       103.0        1174.0     92.0        1559.0        972.0  13.3  47.7   \n",
       "2       131.0        1140.0    114.0        1555.0       1074.0  11.9  54.0   \n",
       "3       172.0        1092.0    122.0        1584.0       1203.0  11.0  60.0   \n",
       "4       131.0        1205.0    116.0        1490.0       1110.0  11.2  59.6   \n",
       "...       ...           ...      ...           ...          ...   ...   ...   \n",
       "6936    472.0         539.0    190.0        1374.0       1729.0  21.9  29.3   \n",
       "6937    353.0         604.0    179.0        1264.0       1269.0  24.3  23.7   \n",
       "6938    293.0         603.0    175.0        1241.0       1092.0  26.9  18.3   \n",
       "6939    235.0         702.0    156.0        1041.0        770.0  28.3  13.5   \n",
       "6940    265.0         654.0    168.0        1129.0        816.0  28.5  13.1   \n",
       "\n",
       "          AH  \n",
       "0     0.7578  \n",
       "1     0.7255  \n",
       "2     0.7502  \n",
       "3     0.7867  \n",
       "4     0.7888  \n",
       "...      ...  \n",
       "6936  0.7568  \n",
       "6937  0.7119  \n",
       "6938  0.6406  \n",
       "6939  0.5139  \n",
       "6940  0.5028  \n",
       "\n",
       "[6941 rows x 15 columns]"
      ]
     },
     "execution_count": 18,
     "metadata": {},
     "output_type": "execute_result"
    }
   ],
   "source": [
    "# Больше нет пропущенных значений\n",
    "df_air.reset_index(inplace=True)\n",
    "df_air"
   ]
  },
  {
   "cell_type": "markdown",
   "metadata": {},
   "source": [
    "#### Выполните масштабирование количественных признаков; Постройте диаграммы BoxPlot для признаков до и после масштабирования. Выберите способ масштабирования (например, нормализацию или стандартизацию)"
   ]
  },
  {
   "cell_type": "code",
   "execution_count": 19,
   "metadata": {},
   "outputs": [
    {
     "data": {
      "text/plain": [
       "['index',\n",
       " 'Time',\n",
       " 'CO(GT)',\n",
       " 'PT08.S1(CO)',\n",
       " 'C6H6(GT)',\n",
       " 'PT08.S2(NMHC)',\n",
       " 'NOx(GT)',\n",
       " 'PT08.S3(NOx)',\n",
       " 'NO2(GT)',\n",
       " 'PT08.S4(NO2)',\n",
       " 'PT08.S5(O3)',\n",
       " 'T',\n",
       " 'RH',\n",
       " 'AH']"
      ]
     },
     "execution_count": 19,
     "metadata": {},
     "output_type": "execute_result"
    }
   ],
   "source": [
    "numerical = []\n",
    "for i in df_air.columns:\n",
    "    if (df_air[i].dtype == np.float64 or df_air[i].dtype == np.int64):\n",
    "        numerical.append(df_air[i].name)\n",
    "numerical"
   ]
  },
  {
   "cell_type": "code",
   "execution_count": 20,
   "metadata": {
    "scrolled": true
   },
   "outputs": [
    {
     "data": {
      "text/plain": [
       "<AxesSubplot:>"
      ]
     },
     "execution_count": 20,
     "metadata": {},
     "output_type": "execute_result"
    },
    {
     "data": {
      "image/png": "[encoded data removed]",
      "text/plain": [
       "<Figure size 432x288 with 1 Axes>"
      ]
     },
     "metadata": {
      "needs_background": "light"
     },
     "output_type": "display_data"
    }
   ],
   "source": [
    "sn.boxplot(data = df_air[numerical], orient = 'h')"
   ]
  },
  {
   "cell_type": "code",
   "execution_count": 21,
   "metadata": {},
   "outputs": [
    {
     "data": {
      "text/plain": [
       "0       13.6\n",
       "1       13.3\n",
       "2       11.9\n",
       "3       11.0\n",
       "4       11.2\n",
       "        ... \n",
       "6936    21.9\n",
       "6937    24.3\n",
       "6938    26.9\n",
       "6939    28.3\n",
       "6940    28.5\n",
       "Name: T, Length: 6941, dtype: float64"
      ]
     },
     "execution_count": 21,
     "metadata": {},
     "output_type": "execute_result"
    }
   ],
   "source": [
    "temperture = df_air['T']\n",
    "temperture"
   ]
  },
  {
   "cell_type": "code",
   "execution_count": 22,
   "metadata": {
    "scrolled": false
   },
   "outputs": [],
   "source": [
    "# Нормализация\n",
    "scaler = MinMaxScaler()\n",
    "df_air_scaled = scaler.fit_transform(df_air[numerical])\n",
    "\n",
    "df_air_scaled = pd.DataFrame(df_air_scaled, columns=numerical)"
   ]
  },
  {
   "cell_type": "code",
   "execution_count": 23,
   "metadata": {
    "scrolled": false
   },
   "outputs": [
    {
     "data": {
      "text/plain": [
       "<AxesSubplot:>"
      ]
     },
     "execution_count": 23,
     "metadata": {},
     "output_type": "execute_result"
    },
    {
     "data": {
      "image/png": "[encoded data removed]",
      "text/plain": [
       "<Figure size 432x288 with 1 Axes>"
      ]
     },
     "metadata": {
      "needs_background": "light"
     },
     "output_type": "display_data"
    }
   ],
   "source": [
    "sn.boxplot(data = df_air_scaled, width=0.3, orient = 'h')"
   ]
  },
  {
   "cell_type": "code",
   "execution_count": 24,
   "metadata": {},
   "outputs": [],
   "source": [
    "df_air_scaled.reset_index(inplace=True)"
   ]
  },
  {
   "cell_type": "code",
   "execution_count": 25,
   "metadata": {},
   "outputs": [
    {
     "data": {
      "text/html": [
       "<div>\n",
       "<style scoped>\n",
       "    .dataframe tbody tr th:only-of-type {\n",
       "        vertical-align: middle;\n",
       "    }\n",
       "\n",
       "    .dataframe tbody tr th {\n",
       "        vertical-align: top;\n",
       "    }\n",
       "\n",
       "    .dataframe thead th {\n",
       "        text-align: right;\n",
       "    }\n",
       "</style>\n",
       "<table border=\"1\" class=\"dataframe\">\n",
       "  <thead>\n",
       "    <tr style=\"text-align: right;\">\n",
       "      <th></th>\n",
       "      <th>Time</th>\n",
       "      <th>CO(GT)</th>\n",
       "      <th>PT08.S1(CO)</th>\n",
       "      <th>C6H6(GT)</th>\n",
       "      <th>PT08.S2(NMHC)</th>\n",
       "      <th>NOx(GT)</th>\n",
       "      <th>PT08.S3(NOx)</th>\n",
       "      <th>NO2(GT)</th>\n",
       "      <th>PT08.S4(NO2)</th>\n",
       "      <th>PT08.S5(O3)</th>\n",
       "      <th>T</th>\n",
       "      <th>RH</th>\n",
       "      <th>AH</th>\n",
       "    </tr>\n",
       "  </thead>\n",
       "  <tbody>\n",
       "    <tr>\n",
       "      <th>0</th>\n",
       "      <td>0.782609</td>\n",
       "      <td>0.211864</td>\n",
       "      <td>0.511845</td>\n",
       "      <td>0.184252</td>\n",
       "      <td>0.359649</td>\n",
       "      <td>0.111036</td>\n",
       "      <td>0.310885</td>\n",
       "      <td>0.335347</td>\n",
       "      <td>0.513040</td>\n",
       "      <td>0.454822</td>\n",
       "      <td>13.6</td>\n",
       "      <td>0.499371</td>\n",
       "      <td>0.287139</td>\n",
       "    </tr>\n",
       "    <tr>\n",
       "      <th>1</th>\n",
       "      <td>0.826087</td>\n",
       "      <td>0.161017</td>\n",
       "      <td>0.463029</td>\n",
       "      <td>0.144882</td>\n",
       "      <td>0.309759</td>\n",
       "      <td>0.068382</td>\n",
       "      <td>0.360864</td>\n",
       "      <td>0.271903</td>\n",
       "      <td>0.453237</td>\n",
       "      <td>0.326238</td>\n",
       "      <td>13.3</td>\n",
       "      <td>0.484277</td>\n",
       "      <td>0.270955</td>\n",
       "    </tr>\n",
       "    <tr>\n",
       "      <th>2</th>\n",
       "      <td>0.869565</td>\n",
       "      <td>0.177966</td>\n",
       "      <td>0.541996</td>\n",
       "      <td>0.138583</td>\n",
       "      <td>0.300987</td>\n",
       "      <td>0.087339</td>\n",
       "      <td>0.346463</td>\n",
       "      <td>0.338369</td>\n",
       "      <td>0.451439</td>\n",
       "      <td>0.370547</td>\n",
       "      <td>11.9</td>\n",
       "      <td>0.563522</td>\n",
       "      <td>0.283331</td>\n",
       "    </tr>\n",
       "    <tr>\n",
       "      <th>3</th>\n",
       "      <td>0.913043</td>\n",
       "      <td>0.177966</td>\n",
       "      <td>0.523331</td>\n",
       "      <td>0.141732</td>\n",
       "      <td>0.305921</td>\n",
       "      <td>0.115098</td>\n",
       "      <td>0.326133</td>\n",
       "      <td>0.362538</td>\n",
       "      <td>0.464478</td>\n",
       "      <td>0.426586</td>\n",
       "      <td>11.0</td>\n",
       "      <td>0.638994</td>\n",
       "      <td>0.301618</td>\n",
       "    </tr>\n",
       "    <tr>\n",
       "      <th>4</th>\n",
       "      <td>0.956522</td>\n",
       "      <td>0.127119</td>\n",
       "      <td>0.448672</td>\n",
       "      <td>0.099213</td>\n",
       "      <td>0.244518</td>\n",
       "      <td>0.087339</td>\n",
       "      <td>0.373994</td>\n",
       "      <td>0.344411</td>\n",
       "      <td>0.422212</td>\n",
       "      <td>0.386186</td>\n",
       "      <td>11.2</td>\n",
       "      <td>0.633962</td>\n",
       "      <td>0.302670</td>\n",
       "    </tr>\n",
       "    <tr>\n",
       "      <th>...</th>\n",
       "      <td>...</td>\n",
       "      <td>...</td>\n",
       "      <td>...</td>\n",
       "      <td>...</td>\n",
       "      <td>...</td>\n",
       "      <td>...</td>\n",
       "      <td>...</td>\n",
       "      <td>...</td>\n",
       "      <td>...</td>\n",
       "      <td>...</td>\n",
       "      <td>...</td>\n",
       "      <td>...</td>\n",
       "      <td>...</td>\n",
       "    </tr>\n",
       "    <tr>\n",
       "      <th>6936</th>\n",
       "      <td>0.434783</td>\n",
       "      <td>0.254237</td>\n",
       "      <td>0.478823</td>\n",
       "      <td>0.209449</td>\n",
       "      <td>0.389803</td>\n",
       "      <td>0.318213</td>\n",
       "      <td>0.091910</td>\n",
       "      <td>0.567976</td>\n",
       "      <td>0.370054</td>\n",
       "      <td>0.655083</td>\n",
       "      <td>21.9</td>\n",
       "      <td>0.252830</td>\n",
       "      <td>0.286638</td>\n",
       "    </tr>\n",
       "    <tr>\n",
       "      <th>6937</th>\n",
       "      <td>0.478261</td>\n",
       "      <td>0.194915</td>\n",
       "      <td>0.370424</td>\n",
       "      <td>0.176378</td>\n",
       "      <td>0.349232</td>\n",
       "      <td>0.237644</td>\n",
       "      <td>0.119441</td>\n",
       "      <td>0.534743</td>\n",
       "      <td>0.320594</td>\n",
       "      <td>0.455256</td>\n",
       "      <td>24.3</td>\n",
       "      <td>0.182390</td>\n",
       "      <td>0.264141</td>\n",
       "    </tr>\n",
       "    <tr>\n",
       "      <th>6938</th>\n",
       "      <td>0.521739</td>\n",
       "      <td>0.194915</td>\n",
       "      <td>0.355348</td>\n",
       "      <td>0.192126</td>\n",
       "      <td>0.368969</td>\n",
       "      <td>0.197021</td>\n",
       "      <td>0.119017</td>\n",
       "      <td>0.522659</td>\n",
       "      <td>0.310252</td>\n",
       "      <td>0.378367</td>\n",
       "      <td>26.9</td>\n",
       "      <td>0.114465</td>\n",
       "      <td>0.228418</td>\n",
       "    </tr>\n",
       "    <tr>\n",
       "      <th>6939</th>\n",
       "      <td>0.565217</td>\n",
       "      <td>0.169492</td>\n",
       "      <td>0.255564</td>\n",
       "      <td>0.146457</td>\n",
       "      <td>0.313048</td>\n",
       "      <td>0.157752</td>\n",
       "      <td>0.160949</td>\n",
       "      <td>0.465257</td>\n",
       "      <td>0.220324</td>\n",
       "      <td>0.238488</td>\n",
       "      <td>28.3</td>\n",
       "      <td>0.054088</td>\n",
       "      <td>0.164938</td>\n",
       "    </tr>\n",
       "    <tr>\n",
       "      <th>6940</th>\n",
       "      <td>0.608696</td>\n",
       "      <td>0.177966</td>\n",
       "      <td>0.304379</td>\n",
       "      <td>0.184252</td>\n",
       "      <td>0.360197</td>\n",
       "      <td>0.178064</td>\n",
       "      <td>0.140618</td>\n",
       "      <td>0.501511</td>\n",
       "      <td>0.259892</td>\n",
       "      <td>0.258471</td>\n",
       "      <td>28.5</td>\n",
       "      <td>0.049057</td>\n",
       "      <td>0.159377</td>\n",
       "    </tr>\n",
       "  </tbody>\n",
       "</table>\n",
       "<p>6941 rows × 13 columns</p>\n",
       "</div>"
      ],
      "text/plain": [
       "          Time    CO(GT)  PT08.S1(CO)  C6H6(GT)  PT08.S2(NMHC)   NOx(GT)  \\\n",
       "0     0.782609  0.211864     0.511845  0.184252       0.359649  0.111036   \n",
       "1     0.826087  0.161017     0.463029  0.144882       0.309759  0.068382   \n",
       "2     0.869565  0.177966     0.541996  0.138583       0.300987  0.087339   \n",
       "3     0.913043  0.177966     0.523331  0.141732       0.305921  0.115098   \n",
       "4     0.956522  0.127119     0.448672  0.099213       0.244518  0.087339   \n",
       "...        ...       ...          ...       ...            ...       ...   \n",
       "6936  0.434783  0.254237     0.478823  0.209449       0.389803  0.318213   \n",
       "6937  0.478261  0.194915     0.370424  0.176378       0.349232  0.237644   \n",
       "6938  0.521739  0.194915     0.355348  0.192126       0.368969  0.197021   \n",
       "6939  0.565217  0.169492     0.255564  0.146457       0.313048  0.157752   \n",
       "6940  0.608696  0.177966     0.304379  0.184252       0.360197  0.178064   \n",
       "\n",
       "      PT08.S3(NOx)   NO2(GT)  PT08.S4(NO2)  PT08.S5(O3)     T        RH  \\\n",
       "0         0.310885  0.335347      0.513040     0.454822  13.6  0.499371   \n",
       "1         0.360864  0.271903      0.453237     0.326238  13.3  0.484277   \n",
       "2         0.346463  0.338369      0.451439     0.370547  11.9  0.563522   \n",
       "3         0.326133  0.362538      0.464478     0.426586  11.0  0.638994   \n",
       "4         0.373994  0.344411      0.422212     0.386186  11.2  0.633962   \n",
       "...            ...       ...           ...          ...   ...       ...   \n",
       "6936      0.091910  0.567976      0.370054     0.655083  21.9  0.252830   \n",
       "6937      0.119441  0.534743      0.320594     0.455256  24.3  0.182390   \n",
       "6938      0.119017  0.522659      0.310252     0.378367  26.9  0.114465   \n",
       "6939      0.160949  0.465257      0.220324     0.238488  28.3  0.054088   \n",
       "6940      0.140618  0.501511      0.259892     0.258471  28.5  0.049057   \n",
       "\n",
       "            AH  \n",
       "0     0.287139  \n",
       "1     0.270955  \n",
       "2     0.283331  \n",
       "3     0.301618  \n",
       "4     0.302670  \n",
       "...        ...  \n",
       "6936  0.286638  \n",
       "6937  0.264141  \n",
       "6938  0.228418  \n",
       "6939  0.164938  \n",
       "6940  0.159377  \n",
       "\n",
       "[6941 rows x 13 columns]"
      ]
     },
     "execution_count": 25,
     "metadata": {},
     "output_type": "execute_result"
    }
   ],
   "source": [
    "df_air_scaled['T'] = temperture\n",
    "df_air_scaled.drop(['level_0', 'index'], axis=1, inplace=True)\n",
    "df_air_scaled"
   ]
  },
  {
   "cell_type": "markdown",
   "metadata": {},
   "source": [
    "#### Решите поставленную задачу регрессии в соответствии с заданием. При подборе параметров метода принятия решения (метода регрессии) используйте перекрёстную проверку (изучите возможные для изменения параметры метода регрессии). Вычислите точность решения задачи, вычислив разницу между реальным значением и предсказанным. Вычислите коэффициент корреляции (Пирсона, Спирмена) между реальным значением и предсказанным с учётом p-value."
   ]
  },
  {
   "cell_type": "code",
   "execution_count": 26,
   "metadata": {},
   "outputs": [
    {
     "data": {
      "text/plain": [
       "Time             0.187500\n",
       "CO(GT)           0.018334\n",
       "PT08.S1(CO)      0.028277\n",
       "C6H6(GT)         0.189003\n",
       "PT08.S2(NMHC)    0.228333\n",
       "NOx(GT)         -0.275998\n",
       "PT08.S3(NOx)    -0.099495\n",
       "NO2(GT)         -0.214325\n",
       "PT08.S4(NO2)     0.566586\n",
       "PT08.S5(O3)     -0.046146\n",
       "T                1.000000\n",
       "RH              -0.563909\n",
       "AH               0.660638\n",
       "Name: T, dtype: float64"
      ]
     },
     "execution_count": 26,
     "metadata": {},
     "output_type": "execute_result"
    }
   ],
   "source": [
    "df_air_scaled.corr()['T']"
   ]
  },
  {
   "cell_type": "code",
   "execution_count": 27,
   "metadata": {},
   "outputs": [
    {
     "data": {
      "text/html": [
       "<div>\n",
       "<style scoped>\n",
       "    .dataframe tbody tr th:only-of-type {\n",
       "        vertical-align: middle;\n",
       "    }\n",
       "\n",
       "    .dataframe tbody tr th {\n",
       "        vertical-align: top;\n",
       "    }\n",
       "\n",
       "    .dataframe thead th {\n",
       "        text-align: right;\n",
       "    }\n",
       "</style>\n",
       "<table border=\"1\" class=\"dataframe\">\n",
       "  <thead>\n",
       "    <tr style=\"text-align: right;\">\n",
       "      <th></th>\n",
       "      <th>Time</th>\n",
       "      <th>C6H6(GT)</th>\n",
       "      <th>PT08.S2(NMHC)</th>\n",
       "      <th>NOx(GT)</th>\n",
       "      <th>NO2(GT)</th>\n",
       "      <th>PT08.S4(NO2)</th>\n",
       "      <th>T</th>\n",
       "      <th>RH</th>\n",
       "      <th>AH</th>\n",
       "    </tr>\n",
       "  </thead>\n",
       "  <tbody>\n",
       "    <tr>\n",
       "      <th>0</th>\n",
       "      <td>0.782609</td>\n",
       "      <td>0.184252</td>\n",
       "      <td>0.359649</td>\n",
       "      <td>0.111036</td>\n",
       "      <td>0.335347</td>\n",
       "      <td>0.513040</td>\n",
       "      <td>13.6</td>\n",
       "      <td>0.499371</td>\n",
       "      <td>0.287139</td>\n",
       "    </tr>\n",
       "    <tr>\n",
       "      <th>1</th>\n",
       "      <td>0.826087</td>\n",
       "      <td>0.144882</td>\n",
       "      <td>0.309759</td>\n",
       "      <td>0.068382</td>\n",
       "      <td>0.271903</td>\n",
       "      <td>0.453237</td>\n",
       "      <td>13.3</td>\n",
       "      <td>0.484277</td>\n",
       "      <td>0.270955</td>\n",
       "    </tr>\n",
       "    <tr>\n",
       "      <th>2</th>\n",
       "      <td>0.869565</td>\n",
       "      <td>0.138583</td>\n",
       "      <td>0.300987</td>\n",
       "      <td>0.087339</td>\n",
       "      <td>0.338369</td>\n",
       "      <td>0.451439</td>\n",
       "      <td>11.9</td>\n",
       "      <td>0.563522</td>\n",
       "      <td>0.283331</td>\n",
       "    </tr>\n",
       "    <tr>\n",
       "      <th>3</th>\n",
       "      <td>0.913043</td>\n",
       "      <td>0.141732</td>\n",
       "      <td>0.305921</td>\n",
       "      <td>0.115098</td>\n",
       "      <td>0.362538</td>\n",
       "      <td>0.464478</td>\n",
       "      <td>11.0</td>\n",
       "      <td>0.638994</td>\n",
       "      <td>0.301618</td>\n",
       "    </tr>\n",
       "    <tr>\n",
       "      <th>4</th>\n",
       "      <td>0.956522</td>\n",
       "      <td>0.099213</td>\n",
       "      <td>0.244518</td>\n",
       "      <td>0.087339</td>\n",
       "      <td>0.344411</td>\n",
       "      <td>0.422212</td>\n",
       "      <td>11.2</td>\n",
       "      <td>0.633962</td>\n",
       "      <td>0.302670</td>\n",
       "    </tr>\n",
       "    <tr>\n",
       "      <th>...</th>\n",
       "      <td>...</td>\n",
       "      <td>...</td>\n",
       "      <td>...</td>\n",
       "      <td>...</td>\n",
       "      <td>...</td>\n",
       "      <td>...</td>\n",
       "      <td>...</td>\n",
       "      <td>...</td>\n",
       "      <td>...</td>\n",
       "    </tr>\n",
       "    <tr>\n",
       "      <th>6936</th>\n",
       "      <td>0.434783</td>\n",
       "      <td>0.209449</td>\n",
       "      <td>0.389803</td>\n",
       "      <td>0.318213</td>\n",
       "      <td>0.567976</td>\n",
       "      <td>0.370054</td>\n",
       "      <td>21.9</td>\n",
       "      <td>0.252830</td>\n",
       "      <td>0.286638</td>\n",
       "    </tr>\n",
       "    <tr>\n",
       "      <th>6937</th>\n",
       "      <td>0.478261</td>\n",
       "      <td>0.176378</td>\n",
       "      <td>0.349232</td>\n",
       "      <td>0.237644</td>\n",
       "      <td>0.534743</td>\n",
       "      <td>0.320594</td>\n",
       "      <td>24.3</td>\n",
       "      <td>0.182390</td>\n",
       "      <td>0.264141</td>\n",
       "    </tr>\n",
       "    <tr>\n",
       "      <th>6938</th>\n",
       "      <td>0.521739</td>\n",
       "      <td>0.192126</td>\n",
       "      <td>0.368969</td>\n",
       "      <td>0.197021</td>\n",
       "      <td>0.522659</td>\n",
       "      <td>0.310252</td>\n",
       "      <td>26.9</td>\n",
       "      <td>0.114465</td>\n",
       "      <td>0.228418</td>\n",
       "    </tr>\n",
       "    <tr>\n",
       "      <th>6939</th>\n",
       "      <td>0.565217</td>\n",
       "      <td>0.146457</td>\n",
       "      <td>0.313048</td>\n",
       "      <td>0.157752</td>\n",
       "      <td>0.465257</td>\n",
       "      <td>0.220324</td>\n",
       "      <td>28.3</td>\n",
       "      <td>0.054088</td>\n",
       "      <td>0.164938</td>\n",
       "    </tr>\n",
       "    <tr>\n",
       "      <th>6940</th>\n",
       "      <td>0.608696</td>\n",
       "      <td>0.184252</td>\n",
       "      <td>0.360197</td>\n",
       "      <td>0.178064</td>\n",
       "      <td>0.501511</td>\n",
       "      <td>0.259892</td>\n",
       "      <td>28.5</td>\n",
       "      <td>0.049057</td>\n",
       "      <td>0.159377</td>\n",
       "    </tr>\n",
       "  </tbody>\n",
       "</table>\n",
       "<p>6941 rows × 9 columns</p>\n",
       "</div>"
      ],
      "text/plain": [
       "          Time  C6H6(GT)  PT08.S2(NMHC)   NOx(GT)   NO2(GT)  PT08.S4(NO2)  \\\n",
       "0     0.782609  0.184252       0.359649  0.111036  0.335347      0.513040   \n",
       "1     0.826087  0.144882       0.309759  0.068382  0.271903      0.453237   \n",
       "2     0.869565  0.138583       0.300987  0.087339  0.338369      0.451439   \n",
       "3     0.913043  0.141732       0.305921  0.115098  0.362538      0.464478   \n",
       "4     0.956522  0.099213       0.244518  0.087339  0.344411      0.422212   \n",
       "...        ...       ...            ...       ...       ...           ...   \n",
       "6936  0.434783  0.209449       0.389803  0.318213  0.567976      0.370054   \n",
       "6937  0.478261  0.176378       0.349232  0.237644  0.534743      0.320594   \n",
       "6938  0.521739  0.192126       0.368969  0.197021  0.522659      0.310252   \n",
       "6939  0.565217  0.146457       0.313048  0.157752  0.465257      0.220324   \n",
       "6940  0.608696  0.184252       0.360197  0.178064  0.501511      0.259892   \n",
       "\n",
       "         T        RH        AH  \n",
       "0     13.6  0.499371  0.287139  \n",
       "1     13.3  0.484277  0.270955  \n",
       "2     11.9  0.563522  0.283331  \n",
       "3     11.0  0.638994  0.301618  \n",
       "4     11.2  0.633962  0.302670  \n",
       "...    ...       ...       ...  \n",
       "6936  21.9  0.252830  0.286638  \n",
       "6937  24.3  0.182390  0.264141  \n",
       "6938  26.9  0.114465  0.228418  \n",
       "6939  28.3  0.054088  0.164938  \n",
       "6940  28.5  0.049057  0.159377  \n",
       "\n",
       "[6941 rows x 9 columns]"
      ]
     },
     "execution_count": 27,
     "metadata": {},
     "output_type": "execute_result"
    }
   ],
   "source": [
    "df_air_scaled.drop(['CO(GT)', 'PT08.S1(CO)', 'PT08.S3(NOx)', 'PT08.S5(O3)'], axis=1, inplace=True)\n",
    "df_air_scaled"
   ]
  },
  {
   "cell_type": "code",
   "execution_count": 28,
   "metadata": {},
   "outputs": [],
   "source": [
    "from sklearn.model_selection import GridSearchCV, train_test_split"
   ]
  },
  {
   "cell_type": "code",
   "execution_count": 29,
   "metadata": {},
   "outputs": [],
   "source": [
    "X, y = df_air_scaled.drop('T', axis=1), df_air_scaled['T']\n",
    "X_train, X_test, y_train, y_test = train_test_split(X, y, test_size=0.3, random_state=101)"
   ]
  },
  {
   "cell_type": "code",
   "execution_count": 30,
   "metadata": {},
   "outputs": [],
   "source": [
    "from sklearn.linear_model import LinearRegression, Lasso"
   ]
  },
  {
   "cell_type": "markdown",
   "metadata": {},
   "source": [
    "#### LinearRegression"
   ]
  },
  {
   "cell_type": "code",
   "execution_count": 31,
   "metadata": {},
   "outputs": [
    {
     "data": {
      "text/plain": [
       "LinearRegression()"
      ]
     },
     "execution_count": 31,
     "metadata": {},
     "output_type": "execute_result"
    }
   ],
   "source": [
    "reg = LinearRegression()\n",
    "reg.fit(X_train, y_train)"
   ]
  },
  {
   "cell_type": "code",
   "execution_count": 32,
   "metadata": {},
   "outputs": [
    {
     "data": {
      "text/plain": [
       "array([  0.05365402, -24.87845128,   9.21657518,   4.35623214,\n",
       "        -1.86028828,  14.75069113, -28.05240853,  28.33631579])"
      ]
     },
     "execution_count": 32,
     "metadata": {},
     "output_type": "execute_result"
    }
   ],
   "source": [
    "reg.coef_"
   ]
  },
  {
   "cell_type": "code",
   "execution_count": 33,
   "metadata": {},
   "outputs": [
    {
     "data": {
      "text/plain": [
       "15.459307425414623"
      ]
     },
     "execution_count": 33,
     "metadata": {},
     "output_type": "execute_result"
    }
   ],
   "source": [
    "reg.intercept_"
   ]
  },
  {
   "cell_type": "markdown",
   "metadata": {},
   "source": [
    "#### Lasso"
   ]
  },
  {
   "cell_type": "code",
   "execution_count": 34,
   "metadata": {},
   "outputs": [
    {
     "data": {
      "text/plain": [
       "Lasso(alpha=0.15)"
      ]
     },
     "execution_count": 34,
     "metadata": {},
     "output_type": "execute_result"
    }
   ],
   "source": [
    "las = Lasso(alpha=0.15)\n",
    "las.fit(X_train, y_train)"
   ]
  },
  {
   "cell_type": "code",
   "execution_count": 35,
   "metadata": {},
   "outputs": [
    {
     "data": {
      "text/plain": [
       "array([  0.        ,   0.        ,   0.        ,  -0.        ,\n",
       "        -0.        ,   0.87357312, -24.53857806,  29.75282315])"
      ]
     },
     "execution_count": 35,
     "metadata": {},
     "output_type": "execute_result"
    }
   ],
   "source": [
    "las.coef_"
   ]
  },
  {
   "cell_type": "code",
   "execution_count": 36,
   "metadata": {},
   "outputs": [
    {
     "data": {
      "text/plain": [
       "17.71192284046"
      ]
     },
     "execution_count": 36,
     "metadata": {},
     "output_type": "execute_result"
    }
   ],
   "source": [
    "las.intercept_"
   ]
  },
  {
   "cell_type": "code",
   "execution_count": 37,
   "metadata": {},
   "outputs": [],
   "source": [
    "from scipy.stats import pearsonr, spearmanr"
   ]
  },
  {
   "cell_type": "code",
   "execution_count": 38,
   "metadata": {},
   "outputs": [],
   "source": [
    "reg_pred = reg.predict(X_test)\n",
    "las_pred = las.predict(X_test)"
   ]
  },
  {
   "cell_type": "markdown",
   "metadata": {},
   "source": [
    "#### Пирсон"
   ]
  },
  {
   "cell_type": "code",
   "execution_count": 39,
   "metadata": {
    "scrolled": true
   },
   "outputs": [
    {
     "name": "stdout",
     "output_type": "stream",
     "text": [
      "Пирсон (lasso):\t\t0.9584233635654165\n",
      "Пирсон (LinearRegression):\t\t0.9630206076744281\n"
     ]
    }
   ],
   "source": [
    "print(f'Пирсон (lasso):\\t\\t{pearsonr(las_pred, y_test)[0]}')\n",
    "print(f'Пирсон (LinearRegression):\\t\\t{pearsonr(reg_pred, y_test)[0]}')"
   ]
  },
  {
   "cell_type": "markdown",
   "metadata": {},
   "source": [
    "#### Спирмен"
   ]
  },
  {
   "cell_type": "code",
   "execution_count": 40,
   "metadata": {},
   "outputs": [
    {
     "name": "stdout",
     "output_type": "stream",
     "text": [
      "Спирмен (lasso):\t0.9758760028128791\n",
      "Спирмен (LinearRegression):\t0.9785976750117346\n"
     ]
    }
   ],
   "source": [
    "print(f'Спирмен (lasso):\\t{spearmanr(las_pred, y_test)[0]}')\n",
    "print(f'Спирмен (LinearRegression):\\t{spearmanr(reg_pred, y_test)[0]}')"
   ]
  },
  {
   "cell_type": "code",
   "execution_count": null,
   "metadata": {},
   "outputs": [],
   "source": []
  }
 ],
 "metadata": {
  "kernelspec": {
   "display_name": "Python 3",
   "language": "python",
   "name": "python3"
  },
  "language_info": {
   "codemirror_mode": {
    "name": "ipython",
    "version": 3
   },
   "file_extension": ".py",
   "mimetype": "text/x-python",
   "name": "python",
   "nbconvert_exporter": "python",
   "pygments_lexer": "ipython3",
   "version": "3.8.7"
  }
 },
 "nbformat": 4,
 "nbformat_minor": 4
}
