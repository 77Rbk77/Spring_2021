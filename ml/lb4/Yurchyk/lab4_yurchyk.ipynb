{
 "cells": [
  {
   "cell_type": "markdown",
   "metadata": {},
   "source": [
    "# Юрчук М.С.\n",
    "## 19-ИВТ-2\n",
    "### Вариант 23 | 5 / 2, 3"
   ]
  },
  {
   "cell_type": "markdown",
   "metadata": {},
   "source": [
    "# 1. Изучить набор данных. Создать описание набора данных на русском языке. Описать признаки, используемые в наборе данных "
   ]
  },
  {
   "cell_type": "markdown",
   "metadata": {},
   "source": [
    "date - время в формате год-месяц-день час:минута:секунда time year-month-day\n",
    "\n",
    "Appliances - бытовые приборы, потребление в Втч\n",
    "\n",
    "lights - освещение,энергопотребление светильников в доме, в Втч\n",
    "\n",
    "T1 - температура на кухне, в цельсиях\n",
    "\n",
    "RH_1 - влажность на кухне, в процентах\n",
    "\n",
    "T2 - температура в жилой зоне, в цельсиях\n",
    "\n",
    "RH_2 - влажность в жилой зоне, в процентах\n",
    "\n",
    "T3 - температура в прачечной зоне, в цельсиях\n",
    "\n",
    "RH_3 - влажность в прачечной зоне, в процентах\n",
    "\n",
    "T4 - температура в офисе, в цельсиях\n",
    "\n",
    "RH_4 - влажность в офисе, в процентах\n",
    "\n",
    "T5 - температура в ванной зоне, в цельсиях\n",
    "\n",
    "RH_5 - влажность в ванной зоне, в процентах\n",
    "\n",
    "T6 - температура вне здания (северная сторона), в цельсиях\n",
    "\n",
    "RH_6 - влажность вне здания (северная сторона), в процентах\n",
    "\n",
    "T7 - температура в гладильной комнате, в цельсиях\n",
    "\n",
    "RH_7 - влажность в гладильной комнате, в процентах\n",
    "\n",
    "T8 - температура в детской комнате, в цельсиях\n",
    "\n",
    "RH_8 - влажность в детской комнате, в процентах\n",
    "\n",
    "T9 - температура в родительской комнате, в цельсиях\n",
    "\n",
    "RH_9 - влажность в родительской комнате, в процентах\n",
    "\n",
    "T_out - температура снаружи (от метеостанции Chievres), в цельсиях\n",
    "\n",
    "Press_mm_hg - давление (от метеостанции Chievres), в мм. рт\n",
    "\n",
    "RH_out - влажность (от метеостанции Chievres), в процентах\n",
    "\n",
    "Windspeed - скорость ветра (от метеостанции Chievres), в м/с\n",
    "\n",
    "Visibility - видимость (от метеостанции Chievres), в км\n",
    "\n",
    "Tdewpoint - точка росы (от метеостанции Chievres), в Â°C \n",
    "\n",
    "rv1 - Случайная величина 1, безразмерная\n",
    "\n",
    "rv2 - Случайная величина 2, безразмерная"
   ]
  },
  {
   "cell_type": "markdown",
   "metadata": {},
   "source": [
    "# 2. Удалите дубликаты строк в наборе данных; приведите размер набора данных до и после данной операции"
   ]
  },
  {
   "cell_type": "code",
   "execution_count": 1,
   "metadata": {},
   "outputs": [
    {
     "data": {
      "text/html": [
       "<div>\n",
       "<style scoped>\n",
       "    .dataframe tbody tr th:only-of-type {\n",
       "        vertical-align: middle;\n",
       "    }\n",
       "\n",
       "    .dataframe tbody tr th {\n",
       "        vertical-align: top;\n",
       "    }\n",
       "\n",
       "    .dataframe thead th {\n",
       "        text-align: right;\n",
       "    }\n",
       "</style>\n",
       "<table border=\"1\" class=\"dataframe\">\n",
       "  <thead>\n",
       "    <tr style=\"text-align: right;\">\n",
       "      <th></th>\n",
       "      <th>Appliances</th>\n",
       "      <th>lights</th>\n",
       "      <th>T1</th>\n",
       "      <th>RH_1</th>\n",
       "      <th>T2</th>\n",
       "      <th>RH_2</th>\n",
       "      <th>T3</th>\n",
       "      <th>RH_3</th>\n",
       "      <th>T4</th>\n",
       "      <th>RH_4</th>\n",
       "      <th>...</th>\n",
       "      <th>T8</th>\n",
       "      <th>RH_8</th>\n",
       "      <th>T9</th>\n",
       "      <th>RH_9</th>\n",
       "      <th>T_out</th>\n",
       "      <th>Press_mm_hg</th>\n",
       "      <th>RH_out</th>\n",
       "      <th>Windspeed</th>\n",
       "      <th>Visibility</th>\n",
       "      <th>Tdewpoint</th>\n",
       "    </tr>\n",
       "  </thead>\n",
       "  <tbody>\n",
       "    <tr>\n",
       "      <th>0</th>\n",
       "      <td>60</td>\n",
       "      <td>30</td>\n",
       "      <td>19.89</td>\n",
       "      <td>47.596667</td>\n",
       "      <td>19.2</td>\n",
       "      <td>44.790000</td>\n",
       "      <td>19.79</td>\n",
       "      <td>44.730000</td>\n",
       "      <td>19.000000</td>\n",
       "      <td>45.566667</td>\n",
       "      <td>...</td>\n",
       "      <td>18.2</td>\n",
       "      <td>48.900000</td>\n",
       "      <td>17.033333</td>\n",
       "      <td>45.53</td>\n",
       "      <td>6.600000</td>\n",
       "      <td>733.5</td>\n",
       "      <td>92.0</td>\n",
       "      <td>7.000000</td>\n",
       "      <td>63.000000</td>\n",
       "      <td>5.3</td>\n",
       "    </tr>\n",
       "    <tr>\n",
       "      <th>1</th>\n",
       "      <td>60</td>\n",
       "      <td>30</td>\n",
       "      <td>19.89</td>\n",
       "      <td>46.693333</td>\n",
       "      <td>19.2</td>\n",
       "      <td>44.722500</td>\n",
       "      <td>19.79</td>\n",
       "      <td>44.790000</td>\n",
       "      <td>19.000000</td>\n",
       "      <td>45.992500</td>\n",
       "      <td>...</td>\n",
       "      <td>18.2</td>\n",
       "      <td>48.863333</td>\n",
       "      <td>17.066667</td>\n",
       "      <td>45.56</td>\n",
       "      <td>6.483333</td>\n",
       "      <td>733.6</td>\n",
       "      <td>92.0</td>\n",
       "      <td>6.666667</td>\n",
       "      <td>59.166667</td>\n",
       "      <td>5.2</td>\n",
       "    </tr>\n",
       "    <tr>\n",
       "      <th>2</th>\n",
       "      <td>50</td>\n",
       "      <td>30</td>\n",
       "      <td>19.89</td>\n",
       "      <td>46.300000</td>\n",
       "      <td>19.2</td>\n",
       "      <td>44.626667</td>\n",
       "      <td>19.79</td>\n",
       "      <td>44.933333</td>\n",
       "      <td>18.926667</td>\n",
       "      <td>45.890000</td>\n",
       "      <td>...</td>\n",
       "      <td>18.2</td>\n",
       "      <td>48.730000</td>\n",
       "      <td>17.000000</td>\n",
       "      <td>45.50</td>\n",
       "      <td>6.366667</td>\n",
       "      <td>733.7</td>\n",
       "      <td>92.0</td>\n",
       "      <td>6.333333</td>\n",
       "      <td>55.333333</td>\n",
       "      <td>5.1</td>\n",
       "    </tr>\n",
       "    <tr>\n",
       "      <th>3</th>\n",
       "      <td>50</td>\n",
       "      <td>40</td>\n",
       "      <td>19.89</td>\n",
       "      <td>46.066667</td>\n",
       "      <td>19.2</td>\n",
       "      <td>44.590000</td>\n",
       "      <td>19.79</td>\n",
       "      <td>45.000000</td>\n",
       "      <td>18.890000</td>\n",
       "      <td>45.723333</td>\n",
       "      <td>...</td>\n",
       "      <td>18.1</td>\n",
       "      <td>48.590000</td>\n",
       "      <td>17.000000</td>\n",
       "      <td>45.40</td>\n",
       "      <td>6.250000</td>\n",
       "      <td>733.8</td>\n",
       "      <td>92.0</td>\n",
       "      <td>6.000000</td>\n",
       "      <td>51.500000</td>\n",
       "      <td>5.0</td>\n",
       "    </tr>\n",
       "    <tr>\n",
       "      <th>4</th>\n",
       "      <td>60</td>\n",
       "      <td>40</td>\n",
       "      <td>19.89</td>\n",
       "      <td>46.333333</td>\n",
       "      <td>19.2</td>\n",
       "      <td>44.530000</td>\n",
       "      <td>19.79</td>\n",
       "      <td>45.000000</td>\n",
       "      <td>18.890000</td>\n",
       "      <td>45.530000</td>\n",
       "      <td>...</td>\n",
       "      <td>18.1</td>\n",
       "      <td>48.590000</td>\n",
       "      <td>17.000000</td>\n",
       "      <td>45.40</td>\n",
       "      <td>6.133333</td>\n",
       "      <td>733.9</td>\n",
       "      <td>92.0</td>\n",
       "      <td>5.666667</td>\n",
       "      <td>47.666667</td>\n",
       "      <td>4.9</td>\n",
       "    </tr>\n",
       "  </tbody>\n",
       "</table>\n",
       "<p>5 rows × 26 columns</p>\n",
       "</div>"
      ],
      "text/plain": [
       "   Appliances  lights     T1       RH_1    T2       RH_2     T3       RH_3  \\\n",
       "0          60      30  19.89  47.596667  19.2  44.790000  19.79  44.730000   \n",
       "1          60      30  19.89  46.693333  19.2  44.722500  19.79  44.790000   \n",
       "2          50      30  19.89  46.300000  19.2  44.626667  19.79  44.933333   \n",
       "3          50      40  19.89  46.066667  19.2  44.590000  19.79  45.000000   \n",
       "4          60      40  19.89  46.333333  19.2  44.530000  19.79  45.000000   \n",
       "\n",
       "          T4       RH_4  ...    T8       RH_8         T9   RH_9     T_out  \\\n",
       "0  19.000000  45.566667  ...  18.2  48.900000  17.033333  45.53  6.600000   \n",
       "1  19.000000  45.992500  ...  18.2  48.863333  17.066667  45.56  6.483333   \n",
       "2  18.926667  45.890000  ...  18.2  48.730000  17.000000  45.50  6.366667   \n",
       "3  18.890000  45.723333  ...  18.1  48.590000  17.000000  45.40  6.250000   \n",
       "4  18.890000  45.530000  ...  18.1  48.590000  17.000000  45.40  6.133333   \n",
       "\n",
       "   Press_mm_hg  RH_out  Windspeed  Visibility  Tdewpoint  \n",
       "0        733.5    92.0   7.000000   63.000000        5.3  \n",
       "1        733.6    92.0   6.666667   59.166667        5.2  \n",
       "2        733.7    92.0   6.333333   55.333333        5.1  \n",
       "3        733.8    92.0   6.000000   51.500000        5.0  \n",
       "4        733.9    92.0   5.666667   47.666667        4.9  \n",
       "\n",
       "[5 rows x 26 columns]"
      ]
     },
     "execution_count": 1,
     "metadata": {},
     "output_type": "execute_result"
    }
   ],
   "source": [
    "import numpy as np\n",
    "import pandas as pd\n",
    "import sklearn as sk\n",
    "import seaborn as sn\n",
    "import matplotlib.pyplot as pt\n",
    "import warnings\n",
    "warnings.filterwarnings('ignore')\n",
    "\n",
    "from sklearn import linear_model\n",
    "from sklearn.preprocessing import MinMaxScaler\n",
    "from sklearn.model_selection import GridSearchCV\n",
    "from sklearn.preprocessing import PolynomialFeatures\n",
    "from sklearn.model_selection import (cross_val_score, StratifiedKFold, train_test_split)\n",
    "from sklearn.linear_model import LinearRegression, Lasso, Ridge\n",
    "from sklearn.metrics import mean_squared_error, mean_absolute_error\n",
    "\n",
    "from scipy.stats import pearsonr, spearmanr\n",
    "\n",
    "pd_data = pd.read_csv('energydata_complete.csv')\n",
    "pd_data.drop(['date', 'rv1', 'rv2'], axis=1, inplace=True)\n",
    "pd_data.head()"
   ]
  },
  {
   "cell_type": "code",
   "execution_count": 2,
   "metadata": {},
   "outputs": [
    {
     "name": "stdout",
     "output_type": "stream",
     "text": [
      "До удаление дубликатов: 19735\n",
      "После удаление дубликатов: 19735 \n",
      "\n"
     ]
    }
   ],
   "source": [
    "print(\"До удаление дубликатов: %d\" % len(pd_data))\n",
    "pd_data.drop_duplicates(keep=\"first\", inplace=True)\n",
    "pd_data = pd_data.dropna().reset_index(drop=True)\n",
    "print(\"После удаление дубликатов: %d \\n\" % len(pd_data))"
   ]
  },
  {
   "cell_type": "markdown",
   "metadata": {},
   "source": [
    "# 3. Выполните масштабирование количественных признаков; Постройте диаграммы BoxPlot для признаков до и после масштабирования. Выберите способ масштабирования."
   ]
  },
  {
   "cell_type": "code",
   "execution_count": 3,
   "metadata": {},
   "outputs": [
    {
     "name": "stdout",
     "output_type": "stream",
     "text": [
      "numerical:  ['Appliances', 'lights', 'T1', 'RH_1', 'T2', 'RH_2', 'T3', 'RH_3', 'T4', 'RH_4', 'T5', 'RH_5', 'T6', 'RH_6', 'T7', 'RH_7', 'T8', 'RH_8', 'T9', 'RH_9', 'T_out', 'Press_mm_hg', 'RH_out', 'Windspeed', 'Visibility', 'Tdewpoint']\n",
      "categorial:  []\n"
     ]
    }
   ],
   "source": [
    "# выделим категориальные и числовые(количественные) признаки\n",
    "numerical_columns = [i for i in pd_data.columns if pd_data[i].dtype.name != 'object']\n",
    "categorial_columns = [i for i in pd_data.columns if pd_data[i].dtype.name == 'object']\n",
    "\n",
    "print('numerical: ', numerical_columns)\n",
    "print('categorial: ', categorial_columns)"
   ]
  },
  {
   "cell_type": "code",
   "execution_count": 4,
   "metadata": {},
   "outputs": [
    {
     "data": {
      "image/png": "[encoded data removed]",
      "text/plain": [
       "<Figure size 1152x360 with 1 Axes>"
      ]
     },
     "metadata": {
      "needs_background": "light"
     },
     "output_type": "display_data"
    }
   ],
   "source": [
    "pt.figure(figsize=(16, 5))\n",
    "sn.boxplot(data=pd_data[numerical_columns])\n",
    "pt.show()"
   ]
  },
  {
   "cell_type": "markdown",
   "metadata": {},
   "source": [
    "#### Способ масштабирования: нормализация"
   ]
  },
  {
   "cell_type": "code",
   "execution_count": 5,
   "metadata": {},
   "outputs": [],
   "source": [
    "scaler = MinMaxScaler()\n",
    "pd_data[numerical_columns] = scaler.fit_transform(pd_data[numerical_columns])"
   ]
  },
  {
   "cell_type": "code",
   "execution_count": 6,
   "metadata": {},
   "outputs": [
    {
     "data": {
      "image/png": "[encoded data removed]",
      "text/plain": [
       "<Figure size 1152x360 with 1 Axes>"
      ]
     },
     "metadata": {
      "needs_background": "light"
     },
     "output_type": "display_data"
    }
   ],
   "source": [
    "pt.figure(figsize=(16, 5))\n",
    "sn.boxplot(data=pd_data[numerical_columns])\n",
    "pt.show()"
   ]
  },
  {
   "cell_type": "markdown",
   "metadata": {},
   "source": [
    "# 4. Выполните замену категориальных признаков; выберите и обоснуйте способ замены."
   ]
  },
  {
   "cell_type": "markdown",
   "metadata": {},
   "source": [
    "Категориальные признаки отсутствуют"
   ]
  },
  {
   "cell_type": "markdown",
   "metadata": {},
   "source": [
    "# 5. Оцените корреляцию между признаков и удалите те признаки, которые коррелируют с наибольшим числом других."
   ]
  },
  {
   "cell_type": "code",
   "execution_count": 7,
   "metadata": {},
   "outputs": [
    {
     "data": {
      "image/png": "[encoded data removed]",
      "text/plain": [
       "<Figure size 864x576 with 2 Axes>"
      ]
     },
     "metadata": {
      "needs_background": "light"
     },
     "output_type": "display_data"
    }
   ],
   "source": [
    "df_correl = pd_data.drop('Appliances', axis=1).corr()\n",
    "pt.figure(figsize = (12,8))\n",
    "sn.heatmap(df_correl)\n",
    "pt.show()"
   ]
  },
  {
   "cell_type": "markdown",
   "metadata": {},
   "source": [
    "# 6. Заполните пропущенные значения в данных;"
   ]
  },
  {
   "cell_type": "code",
   "execution_count": 8,
   "metadata": {},
   "outputs": [
    {
     "data": {
      "text/plain": [
       "Appliances     0\n",
       "lights         0\n",
       "T1             0\n",
       "RH_1           0\n",
       "T2             0\n",
       "RH_2           0\n",
       "T3             0\n",
       "RH_3           0\n",
       "T4             0\n",
       "RH_4           0\n",
       "T5             0\n",
       "RH_5           0\n",
       "T6             0\n",
       "RH_6           0\n",
       "T7             0\n",
       "RH_7           0\n",
       "T8             0\n",
       "RH_8           0\n",
       "T9             0\n",
       "RH_9           0\n",
       "T_out          0\n",
       "Press_mm_hg    0\n",
       "RH_out         0\n",
       "Windspeed      0\n",
       "Visibility     0\n",
       "Tdewpoint      0\n",
       "dtype: int64"
      ]
     },
     "execution_count": 8,
     "metadata": {},
     "output_type": "execute_result"
    }
   ],
   "source": [
    "pd_data.isnull().sum()"
   ]
  },
  {
   "cell_type": "markdown",
   "metadata": {},
   "source": [
    "Пропущенных значений нет"
   ]
  },
  {
   "cell_type": "markdown",
   "metadata": {},
   "source": [
    "# 7. Решите поставленную задачу регрессии в соответствии с заданием. При подборе параметров метода принятия решения (метода регрессии) используйте перекрёстную проверку (изучите возможные для изменения параметры метода регрессии).  Вычислите точность решения задачи, вычислив разницу между реальным значением и предсказанным. Вычислите коэффициент корреляции (Пирсона, Спирмена) между реальным значением и предсказанным с учётом p-value. "
   ]
  },
  {
   "cell_type": "code",
   "execution_count": 9,
   "metadata": {},
   "outputs": [],
   "source": [
    "X, y = pd_data.drop('Appliances', axis=1), pd_data['Appliances']\n",
    "X_train, X_test, y_train, y_test = train_test_split(X, y, test_size = 0.3, random_state = 42)"
   ]
  },
  {
   "cell_type": "markdown",
   "metadata": {},
   "source": [
    "### LASSO регуляризатор"
   ]
  },
  {
   "cell_type": "code",
   "execution_count": 10,
   "metadata": {},
   "outputs": [
    {
     "name": "stdout",
     "output_type": "stream",
     "text": [
      "pearson correlation:  0.40964284155122105\n",
      "pearson pvalue:  2.0217717020597372e-238\n",
      "spearmen correlation:  0.526328335236274\n",
      "spearmen pvalue:  0.0\n"
     ]
    }
   ],
   "source": [
    "las = Lasso()\n",
    "params = {'alpha': np.arange(0, 3, 0.05)}\n",
    "las_grid = GridSearchCV(las, params)\n",
    "las_grid.fit(X_train, y_train)\n",
    "best_alpha = las_grid.best_estimator_.alpha\n",
    "\n",
    "las = Lasso(alpha=best_alpha)\n",
    "las.fit(X_train, y_train)\n",
    "pred_las = las.predict(X_test)\n",
    "\n",
    "person, pvalue_p = pearsonr(pred_las, y_test)\n",
    "spearman, pvalue_s = spearmanr(pred_las, y_test)\n",
    "print('pearson correlation: ', person)\n",
    "print('pearson pvalue: ', pvalue_p)\n",
    "print('spearmen correlation: ', spearman)\n",
    "print('spearmen pvalue: ', pvalue_s)"
   ]
  },
  {
   "cell_type": "code",
   "execution_count": 11,
   "metadata": {},
   "outputs": [
    {
     "data": {
      "text/plain": [
       "0.0074902629277217615"
      ]
     },
     "execution_count": 11,
     "metadata": {},
     "output_type": "execute_result"
    }
   ],
   "source": [
    "mean_squared_error(y_test, pred_las)"
   ]
  },
  {
   "cell_type": "code",
   "execution_count": 12,
   "metadata": {},
   "outputs": [
    {
     "data": {
      "text/plain": [
       "0.049456755871352925"
      ]
     },
     "execution_count": 12,
     "metadata": {},
     "output_type": "execute_result"
    }
   ],
   "source": [
    "mean_absolute_error(y_test, pred_las)"
   ]
  },
  {
   "cell_type": "markdown",
   "metadata": {},
   "source": [
    "### RIDGE регуляризатор"
   ]
  },
  {
   "cell_type": "code",
   "execution_count": 13,
   "metadata": {},
   "outputs": [
    {
     "name": "stdout",
     "output_type": "stream",
     "text": [
      "pearson correlation:  0.4095429691029657\n",
      "pearson pvalue:  2.7051464424873613e-238\n",
      "spearmen correlation:  0.526971170105845\n",
      "spearmen pvalue:  0.0\n"
     ]
    }
   ],
   "source": [
    "ridge = Ridge()\n",
    "params = {'alpha': np.arange(0, 3, 0.05)}\n",
    "ridge_grid = GridSearchCV(ridge, params)\n",
    "ridge_grid.fit(X_train, y_train)\n",
    "best_alpha = ridge_grid.best_estimator_.alpha\n",
    "\n",
    "ridge = Ridge(alpha=best_alpha)\n",
    "ridge.fit(X_train, y_train)\n",
    "pred_ridge = ridge.predict(X_test)\n",
    "\n",
    "person, pvalue_p = pearsonr(pred_ridge, y_test)\n",
    "spearman, pvalue_s = spearmanr(pred_ridge, y_test)\n",
    "print('pearson correlation: ', person)\n",
    "print('pearson pvalue: ', pvalue_p)\n",
    "print('spearmen correlation: ', spearman)\n",
    "print('spearmen pvalue: ', pvalue_s)"
   ]
  },
  {
   "cell_type": "code",
   "execution_count": 14,
   "metadata": {},
   "outputs": [
    {
     "data": {
      "text/plain": [
       "0.007490773346720766"
      ]
     },
     "execution_count": 14,
     "metadata": {},
     "output_type": "execute_result"
    }
   ],
   "source": [
    "mean_squared_error(y_test, pred_ridge)"
   ]
  },
  {
   "cell_type": "code",
   "execution_count": 15,
   "metadata": {},
   "outputs": [
    {
     "data": {
      "text/plain": [
       "0.04944239270608347"
      ]
     },
     "execution_count": 15,
     "metadata": {},
     "output_type": "execute_result"
    }
   ],
   "source": [
    "mean_absolute_error(y_test, pred_ridge)"
   ]
  },
  {
   "cell_type": "code",
   "execution_count": null,
   "metadata": {},
   "outputs": [],
   "source": []
  }
 ],
 "metadata": {
  "kernelspec": {
   "display_name": "Python 3",
   "language": "python",
   "name": "python3"
  },
  "language_info": {
   "codemirror_mode": {
    "name": "ipython",
    "version": 3
   },
   "file_extension": ".py",
   "mimetype": "text/x-python",
   "name": "python",
   "nbconvert_exporter": "python",
   "pygments_lexer": "ipython3",
   "version": "3.8.7"
  }
 },
 "nbformat": 4,
 "nbformat_minor": 4
}
