{
  "nbformat": 4,
  "nbformat_minor": 0,
  "metadata": {
    "colab": {
      "name": "lab3.ipynb",
      "provenance": [],
      "collapsed_sections": []
    },
    "kernelspec": {
      "name": "python3",
      "display_name": "Python 3"
    },
    "language_info": {
      "name": "python"
    }
  },
  "cells": [
    {
      "cell_type": "code",
      "metadata": {
        "id": "5X0Oeyzmp_bg"
      },
      "source": [
        "# Подключение модулей\n",
        "from keras.models import Sequential\n",
        "from keras.layers.core import Activation, Flatten, Dense, Dropout\n",
        "from keras.layers.convolutional import Convolution2D, MaxPooling2D, ZeroPadding2D\n",
        "from keras.optimizers import SGD\n",
        "from tensorflow.python.keras.preprocessing.image import ImageDataGenerator\n",
        "from keras.applications.vgg16 import VGG16, preprocess_input\n",
        "import cv2, numpy as np"
      ],
      "execution_count": 152,
      "outputs": []
    },
    {
      "cell_type": "code",
      "metadata": {
        "colab": {
          "base_uri": "https://localhost:8080/"
        },
        "id": "QkiUYYS3GKpw",
        "outputId": "d4211dd9-e797-44fe-ad2b-4d66784311bd"
      },
      "source": [
        "# Подключение Google Диска\n",
        "from google.colab import drive\n",
        "drive.mount('/content/drive')"
      ],
      "execution_count": 153,
      "outputs": [
        {
          "output_type": "stream",
          "text": [
            "Drive already mounted at /content/drive; to attempt to forcibly remount, call drive.mount(\"/content/drive\", force_remount=True).\n"
          ],
          "name": "stdout"
        }
      ]
    },
    {
      "cell_type": "code",
      "metadata": {
        "id": "XYm6uMj7AF-u"
      },
      "source": [
        "# Пути к наборам данных\n",
        "train_dir = '/content/drive/MyDrive/horses_or_humans/train'\n",
        "test_dir = '/content/drive/MyDrive/horses_or_humans/val' \n",
        "# Размер изображений\n",
        "img_width, img_height = 300, 300\n",
        "# Размер мини-выборки\n",
        "batch_size = 64\n",
        "# Кол-во изображений для обучения\n",
        "nb_train_samples = 1027\n",
        "# Кол-во изображений для теста\n",
        "nb_test_samples = 256"
      ],
      "execution_count": 154,
      "outputs": []
    },
    {
      "cell_type": "code",
      "metadata": {
        "colab": {
          "base_uri": "https://localhost:8080/"
        },
        "id": "uvXl3PLc-QSp",
        "outputId": "b6457cae-9e0e-4834-ba98-a1e4df1f5947"
      },
      "source": [
        "# Создание генератора изображений\n",
        "datagen = ImageDataGenerator(rescale=1. / 255)\n",
        "\n",
        "train_generator = datagen.flow_from_directory(\n",
        "    train_dir,\n",
        "    target_size=(img_width, img_height),\n",
        "    batch_size=batch_size,\n",
        "    class_mode='binary')\n",
        "\n",
        "test_generator = datagen.flow_from_directory(\n",
        "    test_dir,\n",
        "    target_size=(img_width, img_height),\n",
        "    batch_size=batch_size,\n",
        "    class_mode='binary')"
      ],
      "execution_count": 155,
      "outputs": [
        {
          "output_type": "stream",
          "text": [
            "Found 1027 images belonging to 2 classes.\n",
            "Found 256 images belonging to 2 classes.\n"
          ],
          "name": "stdout"
        }
      ]
    },
    {
      "cell_type": "code",
      "metadata": {
        "colab": {
          "base_uri": "https://localhost:8080/"
        },
        "id": "EV6mPsRcu4UZ",
        "outputId": "f0b8b4bb-7b4d-4df9-9bd6-c80a2cd25a86"
      },
      "source": [
        "# Создание экземпляра модели сети VGG16\n",
        "vgg16_net = VGG16(weights='imagenet', include_top=False, input_shape=(img_width, img_height, 3))\n",
        "# weights - веса предварительно обученной сети\n",
        "# include_top = false означает, что мы загружаем только сверточную часть сети, без квалификационной\n",
        "# input_shape - размер тензора\n",
        "\n",
        "# Сверточную часть сети обучать не надо\n",
        "vgg16_net.trainable = False\n",
        "\n",
        "vgg16_net.summary()"
      ],
      "execution_count": 156,
      "outputs": [
        {
          "output_type": "stream",
          "text": [
            "Model: \"vgg16\"\n",
            "_________________________________________________________________\n",
            "Layer (type)                 Output Shape              Param #   \n",
            "=================================================================\n",
            "input_10 (InputLayer)        [(None, 300, 300, 3)]     0         \n",
            "_________________________________________________________________\n",
            "block1_conv1 (Conv2D)        (None, 300, 300, 64)      1792      \n",
            "_________________________________________________________________\n",
            "block1_conv2 (Conv2D)        (None, 300, 300, 64)      36928     \n",
            "_________________________________________________________________\n",
            "block1_pool (MaxPooling2D)   (None, 150, 150, 64)      0         \n",
            "_________________________________________________________________\n",
            "block2_conv1 (Conv2D)        (None, 150, 150, 128)     73856     \n",
            "_________________________________________________________________\n",
            "block2_conv2 (Conv2D)        (None, 150, 150, 128)     147584    \n",
            "_________________________________________________________________\n",
            "block2_pool (MaxPooling2D)   (None, 75, 75, 128)       0         \n",
            "_________________________________________________________________\n",
            "block3_conv1 (Conv2D)        (None, 75, 75, 256)       295168    \n",
            "_________________________________________________________________\n",
            "block3_conv2 (Conv2D)        (None, 75, 75, 256)       590080    \n",
            "_________________________________________________________________\n",
            "block3_conv3 (Conv2D)        (None, 75, 75, 256)       590080    \n",
            "_________________________________________________________________\n",
            "block3_pool (MaxPooling2D)   (None, 37, 37, 256)       0         \n",
            "_________________________________________________________________\n",
            "block4_conv1 (Conv2D)        (None, 37, 37, 512)       1180160   \n",
            "_________________________________________________________________\n",
            "block4_conv2 (Conv2D)        (None, 37, 37, 512)       2359808   \n",
            "_________________________________________________________________\n",
            "block4_conv3 (Conv2D)        (None, 37, 37, 512)       2359808   \n",
            "_________________________________________________________________\n",
            "block4_pool (MaxPooling2D)   (None, 18, 18, 512)       0         \n",
            "_________________________________________________________________\n",
            "block5_conv1 (Conv2D)        (None, 18, 18, 512)       2359808   \n",
            "_________________________________________________________________\n",
            "block5_conv2 (Conv2D)        (None, 18, 18, 512)       2359808   \n",
            "_________________________________________________________________\n",
            "block5_conv3 (Conv2D)        (None, 18, 18, 512)       2359808   \n",
            "_________________________________________________________________\n",
            "block5_pool (MaxPooling2D)   (None, 9, 9, 512)         0         \n",
            "=================================================================\n",
            "Total params: 14,714,688\n",
            "Trainable params: 0\n",
            "Non-trainable params: 14,714,688\n",
            "_________________________________________________________________\n"
          ],
          "name": "stdout"
        }
      ]
    },
    {
      "cell_type": "code",
      "metadata": {
        "id": "QJXHFy3JjxlP",
        "colab": {
          "base_uri": "https://localhost:8080/"
        },
        "outputId": "7fbe3953-28c1-4949-be3e-d96178a8ba6c"
      },
      "source": [
        "# Создание модели составной сети\n",
        "model = Sequential()\n",
        "# Добавляем сверточные слои\n",
        "model.add(vgg16_net)\n",
        "# Преобразуем двумерный массив vgg16 в одномерный\n",
        "model.add(Flatten())\n",
        "# Полносвязный слой\n",
        "model.add(Dense(256, activation='relu'))\n",
        "# Слой регуляризации (для предотвращения переобучения)\n",
        "model.add(Dropout(0.5))\n",
        "# Кол-во классов\n",
        "model.add(Dense(1, activation='sigmoid'))\n",
        "model.summary()"
      ],
      "execution_count": 157,
      "outputs": [
        {
          "output_type": "stream",
          "text": [
            "Model: \"sequential_22\"\n",
            "_________________________________________________________________\n",
            "Layer (type)                 Output Shape              Param #   \n",
            "=================================================================\n",
            "vgg16 (Functional)           (None, 9, 9, 512)         14714688  \n",
            "_________________________________________________________________\n",
            "flatten_22 (Flatten)         (None, 41472)             0         \n",
            "_________________________________________________________________\n",
            "dense_53 (Dense)             (None, 256)               10617088  \n",
            "_________________________________________________________________\n",
            "dropout_31 (Dropout)         (None, 256)               0         \n",
            "_________________________________________________________________\n",
            "dense_54 (Dense)             (None, 1)                 257       \n",
            "=================================================================\n",
            "Total params: 25,332,033\n",
            "Trainable params: 10,617,345\n",
            "Non-trainable params: 14,714,688\n",
            "_________________________________________________________________\n"
          ],
          "name": "stdout"
        }
      ]
    },
    {
      "cell_type": "code",
      "metadata": {
        "id": "JF6a4Ld9ea-R"
      },
      "source": [
        "# Компилируем составную сеть\n",
        "model.compile(loss='binary_crossentropy',\n",
        "              optimizer='SGD', \n",
        "              metrics=['accuracy'])"
      ],
      "execution_count": 158,
      "outputs": []
    },
    {
      "cell_type": "code",
      "metadata": {
        "id": "hfM5mxsxx6So",
        "colab": {
          "base_uri": "https://localhost:8080/"
        },
        "outputId": "b7532774-6fc6-42e7-85bf-8968f6d5c028"
      },
      "source": [
        "# Обучение составной сети\n",
        "model.fit_generator(\n",
        "    train_generator,\n",
        "    steps_per_epoch=nb_train_samples // batch_size,\n",
        "    epochs=5,\n",
        "    validation_data=test_generator,\n",
        "    validation_steps=nb_test_samples // batch_size)"
      ],
      "execution_count": 159,
      "outputs": [
        {
          "output_type": "stream",
          "text": [
            "/usr/local/lib/python3.7/dist-packages/tensorflow/python/keras/engine/training.py:1844: UserWarning: `Model.fit_generator` is deprecated and will be removed in a future version. Please use `Model.fit`, which supports generators.\n",
            "  warnings.warn('`Model.fit_generator` is deprecated and '\n"
          ],
          "name": "stderr"
        },
        {
          "output_type": "stream",
          "text": [
            "Epoch 1/5\n",
            "16/16 [==============================] - 608s 38s/step - loss: 1.5034 - accuracy: 0.5523 - val_loss: 0.4848 - val_accuracy: 0.8633\n",
            "Epoch 2/5\n",
            "16/16 [==============================] - 606s 40s/step - loss: 0.5968 - accuracy: 0.6979 - val_loss: 0.3318 - val_accuracy: 0.9414\n",
            "Epoch 3/5\n",
            "16/16 [==============================] - 606s 38s/step - loss: 0.3894 - accuracy: 0.8296 - val_loss: 0.5245 - val_accuracy: 0.5430\n",
            "Epoch 4/5\n",
            "16/16 [==============================] - 605s 38s/step - loss: 0.4207 - accuracy: 0.7972 - val_loss: 0.2339 - val_accuracy: 0.9062\n",
            "Epoch 5/5\n",
            "16/16 [==============================] - 606s 38s/step - loss: 0.2181 - accuracy: 0.9369 - val_loss: 0.2242 - val_accuracy: 0.9023\n"
          ],
          "name": "stdout"
        },
        {
          "output_type": "execute_result",
          "data": {
            "text/plain": [
              "<tensorflow.python.keras.callbacks.History at 0x7fc56c4d5fd0>"
            ]
          },
          "metadata": {
            "tags": []
          },
          "execution_count": 159
        }
      ]
    },
    {
      "cell_type": "code",
      "metadata": {
        "id": "VCevb9wJ9oY7",
        "colab": {
          "base_uri": "https://localhost:8080/"
        },
        "outputId": "3dd88b55-d80c-418b-9f25-4290cf58d39f"
      },
      "source": [
        "# Проверяем модель на тестовой выборке\n",
        "scores = model.evaluate_generator(test_generator, nb_test_samples // batch_size)\n",
        "print('Точность работы на тестовых данных: %.2f%%' % (scores[1]*100))"
      ],
      "execution_count": 160,
      "outputs": [
        {
          "output_type": "stream",
          "text": [
            "/usr/local/lib/python3.7/dist-packages/tensorflow/python/keras/engine/training.py:1877: UserWarning: `Model.evaluate_generator` is deprecated and will be removed in a future version. Please use `Model.evaluate`, which supports generators.\n",
            "  warnings.warn('`Model.evaluate_generator` is deprecated and '\n"
          ],
          "name": "stderr"
        },
        {
          "output_type": "stream",
          "text": [
            "Точность работы на тестовых данных: 90.23%\n"
          ],
          "name": "stdout"
        }
      ]
    }
  ]
}